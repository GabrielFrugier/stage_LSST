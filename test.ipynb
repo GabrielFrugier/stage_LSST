{
 "cells": [
  {
   "cell_type": "code",
   "execution_count": 1,
   "id": "67461d60-08c2-409e-a3b4-80e62b8c8b9e",
   "metadata": {},
   "outputs": [],
   "source": [
    "import numpy as np"
   ]
  },
  {
   "cell_type": "code",
   "execution_count": 2,
   "id": "48610953-60b1-4147-9105-d3d499f1f1f3",
   "metadata": {},
   "outputs": [],
   "source": [
    "v=np.array([1,2])"
   ]
  },
  {
   "cell_type": "code",
   "execution_count": 3,
   "id": "fde91eca-4647-4e2a-96a6-387bca7fb6d9",
   "metadata": {},
   "outputs": [
    {
     "name": "stdout",
     "output_type": "stream",
     "text": [
      "[1 2]\n"
     ]
    }
   ],
   "source": [
    "print(v)"
   ]
  },
  {
   "cell_type": "markdown",
   "id": "dcb33fbe-c20d-4a4a-9333-e123681773fb",
   "metadata": {},
   "source": [
    "re test"
   ]
  },
  {
   "cell_type": "code",
   "execution_count": 5,
   "id": "a0abaaa3-e9f9-4bc1-a322-45830cf8df47",
   "metadata": {},
   "outputs": [],
   "source": [
    "def testfct(a,b):\n",
    "    return a+b"
   ]
  },
  {
   "cell_type": "code",
   "execution_count": 6,
   "id": "f6e4e07f-5a05-481a-86e8-0c62ba80ce11",
   "metadata": {},
   "outputs": [
    {
     "name": "stdout",
     "output_type": "stream",
     "text": [
      "2\n"
     ]
    }
   ],
   "source": [
    "print(testfct(1,1))"
   ]
  },
  {
   "cell_type": "code",
   "execution_count": null,
   "id": "913b58ba-b8b4-42cb-b522-6d6c1d55437d",
   "metadata": {},
   "outputs": [],
   "source": []
  }
 ],
 "metadata": {
  "kernelspec": {
   "display_name": "Python 3 (ipykernel)",
   "language": "python",
   "name": "python3"
  },
  "language_info": {
   "codemirror_mode": {
    "name": "ipython",
    "version": 3
   },
   "file_extension": ".py",
   "mimetype": "text/x-python",
   "name": "python",
   "nbconvert_exporter": "python",
   "pygments_lexer": "ipython3",
   "version": "3.8.5"
  }
 },
 "nbformat": 4,
 "nbformat_minor": 5
}
