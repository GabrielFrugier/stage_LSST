{
 "cells": [
  {
   "cell_type": "code",
   "execution_count": 1,
   "id": "fb7a924b-bd63-4d06-a936-85e32f5af867",
   "metadata": {},
   "outputs": [],
   "source": [
    "import numpy as np\n",
    "import matplotlib.pyplot as plt\n",
    "import matplotlib as mpl\n",
    "from astropy.table import Table\n",
    "import GCRCatalogs\n",
    "from GCR import GCRQuery\n",
    "import statistics\n",
    "import os, sys\n",
    "import healpy as hp\n",
    "from tqdm.auto import tqdm, trange\n",
    "import scipy.stats\n",
    "import FoFCatalogMatching\n",
    "import pandas as pd\n",
    "from astropy.coordinates import SkyCoord\n",
    "from scipy.stats import pearsonr\n",
    "import warnings"
   ]
  },
  {
   "cell_type": "code",
   "execution_count": 2,
   "id": "80a34dbc-a1bb-41ac-8605-2500543ebff0",
   "metadata": {},
   "outputs": [],
   "source": [
    "warnings.filterwarnings('ignore')"
   ]
  },
  {
   "cell_type": "markdown",
   "id": "5d0b7bd1-9830-46b5-8772-f00b659a4503",
   "metadata": {},
   "source": [
    "### Z and mag filters :"
   ]
  },
  {
   "cell_type": "code",
   "execution_count": 3,
   "id": "32068e6a-30c1-45fe-8c19-a1f83269cbfb",
   "metadata": {},
   "outputs": [],
   "source": [
    "# mag filters :\n",
    "\n",
    "object_mag_filters = ['mag_i_cModel < 26.5', 'mag_i_cModel > 18',\n",
    "    (np.isfinite, 'mag_i_cModel'), (np.isfinite, 'mag_r_cModel'), (np.isfinite, 'mag_z_cModel')]\n",
    "\n",
    "truth_mag_filters = ['mag_i<28','mag_i>18',(np.isfinite, 'mag_i'), (np.isfinite, 'mag_r'), (np.isfinite, 'mag_z')]"
   ]
  },
  {
   "cell_type": "markdown",
   "id": "ad46889f-c90e-4b98-b0f0-34b44010e524",
   "metadata": {},
   "source": [
    "### CosmoDC2 and DC2Objects (truth and object) :"
   ]
  },
  {
   "cell_type": "code",
   "execution_count": 4,
   "id": "0a629a46-9841-4773-86d1-167c2bf14f42",
   "metadata": {},
   "outputs": [],
   "source": [
    "import GCRCatalogs\n",
    "cosmodc2 = GCRCatalogs.load_catalog('cosmoDC2_v1.1.4_image') #truth catalog\n",
    "dc2 = GCRCatalogs.load_catalog('dc2_object_run2.2i_dr6_with_addons') #object catalog"
   ]
  },
  {
   "cell_type": "code",
   "execution_count": 5,
   "id": "c119d240-2d23-489d-8097-236e1dff53bf",
   "metadata": {},
   "outputs": [],
   "source": [
    "cosmodc2.get_quantity_info('is_central')"
   ]
  },
  {
   "cell_type": "code",
   "execution_count": 6,
   "id": "853ac1fc-ef3a-423f-8b58-ab5ad6182f6f",
   "metadata": {},
   "outputs": [
    {
     "name": "stdout",
     "output_type": "stream",
     "text": [
      "<class 'dict'>\n"
     ]
    }
   ],
   "source": [
    "#data object catalog :\n",
    "\n",
    "object_quantities = ['ra', 'dec', 'mag_i_cModel', 'photoz_mean']\n",
    "\n",
    "object_data = (dc2.get_quantities(object_quantities,\n",
    "                                 filters=['extendedness>0', 'clean']+object_mag_filters,\n",
    "                                 native_filters=['tract==4026']))\n",
    "\n",
    "print(type(object_data))"
   ]
  },
  {
   "cell_type": "code",
   "execution_count": 7,
   "id": "80e8700b-181c-4ccd-883b-4404788e629a",
   "metadata": {},
   "outputs": [],
   "source": [
    "# data truth catalog :\n",
    "\n",
    "eps = 10/3600 # 10 arcsec\n",
    "max_ra = np.nanmax(object_data['ra']) + eps\n",
    "min_ra = np.nanmin(object_data['ra']) - eps\n",
    "max_dec = np.nanmax(object_data['dec']) + eps\n",
    "min_dec = np.nanmin(object_data['dec']) - eps\n",
    "pos_filters = [f'ra >= {min_ra}',f'ra <= {max_ra}', f'dec >= {min_dec}', f'dec <= {max_dec}']\n",
    "\n",
    "vertices = hp.ang2vec(np.array([min_ra, max_ra, max_ra, min_ra]),\n",
    "                      np.array([min_dec, min_dec, max_dec, max_dec]), lonlat=True)\n",
    "ipix = hp.query_polygon(32, vertices, inclusive=True)\n",
    "healpix_filter = GCRQuery((lambda h: np.isin(h, ipix, True), \"healpix_pixel\"))"
   ]
  },
  {
   "cell_type": "code",
   "execution_count": 8,
   "id": "e6198005-72cc-4b2a-824b-43aad3eef3fa",
   "metadata": {},
   "outputs": [],
   "source": [
    "truth_quantities = ['galaxy_id', 'ra', 'dec', 'mag_i', 'redshift', 'is_central', 'halo_mass', 'halo_id']\n",
    "\n",
    "truth_data = (cosmodc2.get_quantities(truth_quantities, \n",
    "                                      filters=truth_mag_filters+pos_filters, \n",
    "                                      native_filters=healpix_filter))"
   ]
  },
  {
   "cell_type": "code",
   "execution_count": 9,
   "id": "2a892012-9e07-4d5d-9766-899d4fab4c2c",
   "metadata": {},
   "outputs": [
    {
     "name": "stdout",
     "output_type": "stream",
     "text": [
      "nombre de galaxies = 2920943\n",
      "nombre de galaxies centrales = 2669420\n",
      "pourcentage de galaxies centrales = 91.38897951791596 %\n",
      "nombre d'objets = 676713\n"
     ]
    }
   ],
   "source": [
    "print(\"nombre de galaxies =\", len(truth_data['ra']))\n",
    "print(\"nombre de galaxies centrales =\", len(np.where(truth_data['is_central']==True)[0]))\n",
    "print(\"pourcentage de galaxies centrales =\", (len(np.where(truth_data['is_central']==True)[0])/len(truth_data['ra']))*100, '%')\n",
    "print(\"nombre d'objets =\", len(object_data['ra']))"
   ]
  },
  {
   "cell_type": "markdown",
   "id": "95eba13b-3f27-4b10-bdf2-5634a04b5e2c",
   "metadata": {
    "jp-MarkdownHeadingCollapsed": true,
    "tags": []
   },
   "source": [
    "### FoF algo :"
   ]
  },
  {
   "cell_type": "code",
   "execution_count": 10,
   "id": "016598cb-02c2-4ee6-a152-c05e807e2a73",
   "metadata": {},
   "outputs": [],
   "source": [
    "my_linking_length = 0.4 #linking_lenghts in arcseconds optimal, for 18<mag<26.5"
   ]
  },
  {
   "cell_type": "code",
   "execution_count": 11,
   "id": "854157a7-2c95-440b-83b5-dc9329f440b9",
   "metadata": {},
   "outputs": [],
   "source": [
    "results = FoFCatalogMatching.match(catalog_dict={'object':pd.DataFrame(object_data), \n",
    "                                                 'galaxy':pd.DataFrame(truth_data)},\n",
    "                                                  linking_lengths=my_linking_length)"
   ]
  },
  {
   "cell_type": "code",
   "execution_count": 12,
   "id": "78cfb00b-9574-4b04-8b11-b75254935d16",
   "metadata": {},
   "outputs": [],
   "source": [
    "# first we need to know which rows are from the truth catalog and which are from the object\n",
    "\n",
    "truth_mask = results['catalog_key'] == 'galaxy'\n",
    "object_mask = ~truth_mask"
   ]
  },
  {
   "cell_type": "code",
   "execution_count": 13,
   "id": "6f988924-3d95-4806-9adc-63fe946ae037",
   "metadata": {},
   "outputs": [
    {
     "name": "stdout",
     "output_type": "stream",
     "text": [
      "2852652\n"
     ]
    }
   ],
   "source": [
    "# np.bincount will give up the number of id occurrences (like histogram but with integer input)\n",
    "\n",
    "n_groups = results['group_id'].max() + 1   #nombre de groupes total (groupe/objet)\n",
    "n_truth = np.bincount(results['group_id'][truth_mask], minlength=n_groups)  # groupe de galaxies\n",
    "n_object = np.bincount(results['group_id'][object_mask], minlength=n_groups)  # groupe d'objets\n",
    "\n",
    "print(results['group_id'].max())"
   ]
  },
  {
   "cell_type": "code",
   "execution_count": 14,
   "id": "1f6643f4-e096-45dc-b2dc-c6a6a5a6370d",
   "metadata": {},
   "outputs": [
    {
     "name": "stdout",
     "output_type": "stream",
     "text": [
      "total nbr of groups =  2852653\n",
      "nbr of group with at list 1 galaxies =  2822154 ( 98.9308548919199 %)\n",
      "nbr of group with at list 1 object = 676675 ( 23.72090121020678 %)\n"
     ]
    }
   ],
   "source": [
    "print('total nbr of groups = ', n_groups)\n",
    "print('nbr of group with at list 1 galaxies = ', len(n_truth[n_truth>0]), \"(\", (len(n_truth[n_truth>0])/n_groups)*100, '%)')\n",
    "print('nbr of group with at list 1 object =', len(n_object[n_object>0]), \"(\", (len(n_object[n_object>0])/n_groups)*100, '%)')"
   ]
  },
  {
   "cell_type": "markdown",
   "id": "ed03c8a2-3a23-4d25-8d8e-2df3f547c6cf",
   "metadata": {
    "tags": []
   },
   "source": [
    "#### Galaxy central selection :"
   ]
  },
  {
   "cell_type": "code",
   "execution_count": 15,
   "id": "3b300347-09cd-487c-a64b-0e07ade09515",
   "metadata": {},
   "outputs": [],
   "source": [
    "ind_galax=np.array(results[truth_mask][:]['row_index'])  #transfo dictio astropy en array pour pouvoir indexer en gardant l'ordre des indices donné dans results (relié au group_id)"
   ]
  },
  {
   "cell_type": "code",
   "execution_count": 16,
   "id": "8023a24f-0f81-4d44-9f94-7812449e3c9d",
   "metadata": {},
   "outputs": [],
   "source": [
    "ind_galax_central = truth_data['is_central'][ind_galax]  #donne indices des galaxies centrales dans l'ordre de results (par groupe_id)"
   ]
  },
  {
   "cell_type": "code",
   "execution_count": 17,
   "id": "d1c63e29-c7ef-4ebc-a097-650bdc9ce555",
   "metadata": {},
   "outputs": [],
   "source": [
    "n_truth_central=np.bincount(results[truth_mask][ind_galax_central]['group_id'], minlength=n_groups)  #donne nbr groupe de galaxies cenrtales et leurs id sur la len de n_group"
   ]
  },
  {
   "cell_type": "code",
   "execution_count": 18,
   "id": "be247612-1976-4690-b571-fbfa56b36a0f",
   "metadata": {},
   "outputs": [
    {
     "name": "stdout",
     "output_type": "stream",
     "text": [
      "nbr of group with at list 1 central galaxies =  2589936 ( 90.7904326253491 %)\n"
     ]
    }
   ],
   "source": [
    "print('nbr of group with at list 1 central galaxies = ', len(n_truth_central[n_truth_central>0]), \"(\", (len(n_truth[n_truth_central>0])/n_groups)*100, '%)')"
   ]
  },
  {
   "cell_type": "markdown",
   "id": "045a05e8-320a-4fb7-b03c-f348eac42ab9",
   "metadata": {},
   "source": [
    "Normalised histogram. When we remove satellite galaxies, we can observe a small increase in unrelated object.  "
   ]
  },
  {
   "cell_type": "markdown",
   "id": "4a2e03b6-a002-42de-978b-fb0ceefb6c3b",
   "metadata": {
    "jp-MarkdownHeadingCollapsed": true,
    "tags": []
   },
   "source": [
    "### Satellite galaxies selection :"
   ]
  },
  {
   "cell_type": "code",
   "execution_count": 19,
   "id": "f6eb61e3-c1e5-4a61-ae9d-ffc7fa4a81a7",
   "metadata": {},
   "outputs": [],
   "source": [
    "ind_galax_sat = ~ind_galax_central  #donne indices des galaxies satellites dans l'ordre de results (par groupe_id)"
   ]
  },
  {
   "cell_type": "markdown",
   "id": "5396de89-02b4-4ab8-b94f-f0f77ea25261",
   "metadata": {
    "tags": []
   },
   "source": [
    "# Halo_mass + z max cut :"
   ]
  },
  {
   "cell_type": "code",
   "execution_count": 20,
   "id": "c170bf5a-5c6a-40e0-b482-9980c7f68fe6",
   "metadata": {},
   "outputs": [],
   "source": [
    "truth_data_halo_mass= truth_data['halo_mass'][ind_galax]\n",
    "\n",
    "truth_data_z= truth_data['redshift'][ind_galax]"
   ]
  },
  {
   "cell_type": "code",
   "execution_count": 21,
   "id": "51e97c29-e270-48c7-bbc0-c69aa787430f",
   "metadata": {},
   "outputs": [],
   "source": [
    "halo_mass_cut=1e13\n",
    "\n",
    "z_max_cut= 1.5"
   ]
  },
  {
   "cell_type": "markdown",
   "id": "c9a1213b-de35-4542-bbcd-f52eddcebb82",
   "metadata": {},
   "source": [
    "## Halo_mass >1e13 + z-max-cut study for all galaxies :"
   ]
  },
  {
   "cell_type": "code",
   "execution_count": 22,
   "id": "b33930a9-573b-4270-9bf2-cd04fbf59316",
   "metadata": {},
   "outputs": [],
   "source": [
    "n_truth_2cut_all = np.bincount(results[truth_mask][np.where((truth_data_z<z_max_cut) & (truth_data_halo_mass>halo_mass_cut))[0]]['group_id'],\n",
    "                               minlength=n_groups)"
   ]
  },
  {
   "cell_type": "code",
   "execution_count": 23,
   "id": "f5166334-9541-490a-893a-3ef564bac733",
   "metadata": {},
   "outputs": [
    {
     "data": {
      "image/png": "[encoded data removed]",
      "text/plain": [
       "<Figure size 1100x1000 with 4 Axes>"
      ]
     },
     "metadata": {},
     "output_type": "display_data"
    }
   ],
   "source": [
    "plt.figure(figsize=(11,10))\n",
    "plt.subplots_adjust(left=0.1, right=1, wspace=0.5)\n",
    "\n",
    "plt1=plt.subplot(221)\n",
    "hist2d1=plt.hist2d(n_truth, n_object, bins=np.arange(max(np.max(n_object), np.max(n_truth))+2)-0.5, norm=mpl.colors.LogNorm(), cmap='inferno')\n",
    "plt.xlabel('Number of truth galaxies', fontsize=12)\n",
    "plt.ylabel('Number of detected objects', fontsize=12)\n",
    "plt.colorbar(label=r'$N_{\\rm groups}$')\n",
    "plt.gca().set_aspect('equal')\n",
    "plt.title('Histogram of galaxies grouping by FoF algorithm ')\n",
    "\n",
    "plt2=plt.subplot(222)\n",
    "hist2d2_2cut_all=plt.hist2d(n_truth_2cut_all, n_object,\n",
    "                    bins=np.arange(max(np.max(n_object), \n",
    "                    np.max(n_truth))+2)-0.5,\n",
    "                    norm=mpl.colors.LogNorm(), cmap='inferno')\n",
    "plt.xlabel('Number of all truth galaxies with halo_mass>1e13 and z<1.5', fontsize=12)\n",
    "plt.ylabel('Number of detected objects', fontsize=12)\n",
    "plt.colorbar(label=r'$N_{\\rm groups}$')\n",
    "plt.gca().set_aspect('equal')\n",
    "plt.title('Histogram of all truth galaxies with halo_mass>1e13 and z<1.5')\n",
    "\n",
    "plt.show()"
   ]
  },
  {
   "cell_type": "code",
   "execution_count": 24,
   "id": "38035bab-f95e-4645-835e-5d57cb308857",
   "metadata": {},
   "outputs": [
    {
     "name": "stdout",
     "output_type": "stream",
     "text": [
      "missed detections :\n",
      "nbr of (1-0) systems for all truth galaxies with z>1,5 and halo_mass>1e13= 12003.0\n",
      "recognized blending :\n",
      "nbr of (1-1) systems = 19615.0\n",
      "unrecognized blending :\n",
      "nbr of (2-1) systems = 116.0\n"
     ]
    }
   ],
   "source": [
    "print(\"missed detections :\")\n",
    "\n",
    "print(\"nbr of (1-0) systems for all truth galaxies with z>1,5 and halo_mass>1e13=\", hist2d2_2cut_all[0][1,0])\n",
    "\n",
    "print(\"recognized blending :\")\n",
    "\n",
    "print(\"nbr of (1-1) systems =\", hist2d2_2cut_all[0][1,1])\n",
    "\n",
    "print(\"unrecognized blending :\")\n",
    "\n",
    "print(\"nbr of (2-1) systems =\", hist2d2_2cut_all[0][2,1])"
   ]
  },
  {
   "cell_type": "code",
   "execution_count": 25,
   "id": "44f099f8-7ba4-48cb-a104-87faeeec1bf9",
   "metadata": {},
   "outputs": [
    {
     "name": "stdout",
     "output_type": "stream",
     "text": [
      "% of (1-0) systems in all truth galaxies with z<1,5 and halo_mass>1e13 : 37.65528924582758\n",
      "% of (1-1) systems in all truth galaxies with z<1,5 and halo_mass>1e13 : 61.535324381980175\n",
      "% of (2-1) systems in all truth galaxies with z<1,5 and halo_mass>1e13 : 0.3639101518383737\n"
     ]
    }
   ],
   "source": [
    "print(\"% of (1-0) systems in all truth galaxies with z<1,5 and halo_mass>1e13 :\",\n",
    "     (hist2d2_2cut_all[0][1,0]/len(results[truth_mask][np.where((truth_data_z<z_max_cut) & (truth_data_halo_mass>halo_mass_cut))[0]]))*100)\n",
    "\n",
    "print(\"% of (1-1) systems in all truth galaxies with z<1,5 and halo_mass>1e13 :\",\n",
    "     (hist2d2_2cut_all[0][1,1]/len(results[truth_mask][np.where((truth_data_z<z_max_cut) & (truth_data_halo_mass>halo_mass_cut))[0]]))*100)\n",
    "\n",
    "print(\"% of (2-1) systems in all truth galaxies with z<1,5 and halo_mass>1e13 :\",\n",
    "     (hist2d2_2cut_all[0][2,1]/len(results[truth_mask][np.where((truth_data_z<z_max_cut) & (truth_data_halo_mass>halo_mass_cut))[0]]))*100)"
   ]
  },
  {
   "cell_type": "markdown",
   "id": "1d3c072c-f6b7-44d4-8e4d-341edcca49d3",
   "metadata": {},
   "source": [
    "## Halo_mass >1e13 + z-max-cut study for central galaxies :"
   ]
  },
  {
   "cell_type": "code",
   "execution_count": 26,
   "id": "6596e377-cd3a-45b0-9724-54981cdae993",
   "metadata": {},
   "outputs": [],
   "source": [
    "n_truth_2cut_central = np.bincount(results[truth_mask][ind_galax_central][np.where((truth_data_z[ind_galax_central]<z_max_cut) & (truth_data_halo_mass[ind_galax_central]>halo_mass_cut))[0]]['group_id'],\n",
    "                               minlength=n_groups)"
   ]
  },
  {
   "cell_type": "code",
   "execution_count": 27,
   "id": "64903d8a-4a34-4279-98a0-7e2f1cc06326",
   "metadata": {},
   "outputs": [
    {
     "data": {
      "image/png": "[encoded data removed]",
      "text/plain": [
       "<Figure size 1100x1000 with 4 Axes>"
      ]
     },
     "metadata": {},
     "output_type": "display_data"
    }
   ],
   "source": [
    "plt.figure(figsize=(11,10))\n",
    "plt.subplots_adjust(left=0.1, right=1, wspace=0.5)\n",
    "\n",
    "plt1=plt.subplot(221)\n",
    "hist2d1=plt.hist2d(n_truth, n_object, bins=np.arange(max(np.max(n_object), np.max(n_truth))+2)-0.5, norm=mpl.colors.LogNorm(), cmap='inferno')\n",
    "plt.xlabel('Number of truth galaxies', fontsize=12)\n",
    "plt.ylabel('Number of detected objects', fontsize=12)\n",
    "plt.colorbar(label=r'$N_{\\rm groups}$')\n",
    "plt.gca().set_aspect('equal')\n",
    "plt.title('Histogram of galaxies grouping by FoF algorithm ')\n",
    "\n",
    "plt2=plt.subplot(222)\n",
    "hist2d2_2cut_central=plt.hist2d(n_truth_2cut_central, n_object,\n",
    "                    bins=np.arange(max(np.max(n_object), \n",
    "                    np.max(n_truth))+2)-0.5,\n",
    "                    norm=mpl.colors.LogNorm(), cmap='inferno')\n",
    "plt.xlabel('Number of all central truth galaxies with halo_mass>1e13 an for z<1.5', fontsize=12)\n",
    "plt.ylabel('Number of detected objects', fontsize=12)\n",
    "plt.colorbar(label=r'$N_{\\rm groups}$')\n",
    "plt.gca().set_aspect('equal')\n",
    "plt.title('Histogram of all central truth galaxies with halo_mass>1e13 an for z<1.5')\n",
    "\n",
    "plt.show()"
   ]
  },
  {
   "cell_type": "code",
   "execution_count": 28,
   "id": "fc0cc391-babc-454e-b276-ae0e7482fc1f",
   "metadata": {},
   "outputs": [
    {
     "name": "stdout",
     "output_type": "stream",
     "text": [
      "missed detections :\n",
      "nbr of (1-0) systems for all central truth galaxies with z>1,5 and halo_mass >1e13 = 65.0\n",
      "recognized blending :\n",
      "nbr of (1-1) systems = 1349.0\n",
      "unrecognized blending :\n",
      "nbr of (2-1) systems = 0.0\n"
     ]
    }
   ],
   "source": [
    "print(\"missed detections :\")\n",
    "\n",
    "print(\"nbr of (1-0) systems for all central truth galaxies with z>1,5 and halo_mass >1e13 =\", hist2d2_2cut_central[0][1,0])\n",
    "\n",
    "print(\"recognized blending :\")\n",
    "\n",
    "print(\"nbr of (1-1) systems =\", hist2d2_2cut_central[0][1,1])\n",
    "\n",
    "print(\"unrecognized blending :\")\n",
    "\n",
    "print(\"nbr of (2-1) systems =\", hist2d2_2cut_central[0][2,1])"
   ]
  },
  {
   "cell_type": "code",
   "execution_count": 29,
   "id": "37178bf2-0375-47f2-8b85-9beb2ac6404a",
   "metadata": {},
   "outputs": [
    {
     "name": "stdout",
     "output_type": "stream",
     "text": [
      "% of (1-0) systems in all central truth galaxies with z<1,5 and halo_mass>1e13 : 4.596888260254596\n",
      "% of (1-1) systems in all central truth galaxies with z<1,5 and halo_mass>1e13 : 95.40311173974541\n",
      "% of (2-1) systems in all central truth galaxies with z<1,5 and halo_mass>1e13 : 0.0\n"
     ]
    }
   ],
   "source": [
    "print(\"% of (1-0) systems in all central truth galaxies with z<1,5 and halo_mass>1e13 :\",\n",
    "     (hist2d2_2cut_central[0][1,0]/len(results[truth_mask][ind_galax_central][np.where((truth_data_z[ind_galax_central]<z_max_cut) & (truth_data_halo_mass[ind_galax_central]>halo_mass_cut))[0]]))*100)\n",
    "\n",
    "print(\"% of (1-1) systems in all central truth galaxies with z<1,5 and halo_mass>1e13 :\",\n",
    "     (hist2d2_2cut_central[0][1,1]/len(results[truth_mask][ind_galax_central][np.where((truth_data_z[ind_galax_central]<z_max_cut) & (truth_data_halo_mass[ind_galax_central]>halo_mass_cut))[0]]))*100)\n",
    "\n",
    "print(\"% of (2-1) systems in all central truth galaxies with z<1,5 and halo_mass>1e13 :\",\n",
    "     (hist2d2_2cut_central[0][2,1]/len(results[truth_mask][ind_galax_central][np.where((truth_data_z[ind_galax_central]<z_max_cut) & (truth_data_halo_mass[ind_galax_central]>halo_mass_cut))[0]]))*100)"
   ]
  },
  {
   "cell_type": "markdown",
   "id": "a2117271-b2ca-45d1-beb7-5e3e94471c48",
   "metadata": {},
   "source": [
    "## Halo_mass >1e13 + z-max-cut study for sat galaxies :"
   ]
  },
  {
   "cell_type": "code",
   "execution_count": 30,
   "id": "4dcbbb0e-590f-4841-b021-c68c0a63a643",
   "metadata": {},
   "outputs": [],
   "source": [
    "n_truth_2cut_sat = np.bincount(results[truth_mask][ind_galax_sat][np.where((truth_data_z[ind_galax_sat]<z_max_cut) & (truth_data_halo_mass[ind_galax_sat]>halo_mass_cut))[0]]['group_id'],\n",
    "                               minlength=n_groups)"
   ]
  },
  {
   "cell_type": "code",
   "execution_count": 31,
   "id": "56cc1920-0cd9-4929-a0ae-46a13f827714",
   "metadata": {},
   "outputs": [
    {
     "data": {
      "image/png": "[encoded data removed]",
      "text/plain": [
       "<Figure size 1100x1000 with 4 Axes>"
      ]
     },
     "metadata": {},
     "output_type": "display_data"
    }
   ],
   "source": [
    "plt.figure(figsize=(11,10))\n",
    "plt.subplots_adjust(left=0.1, right=1, wspace=0.5)\n",
    "\n",
    "plt1=plt.subplot(221)\n",
    "hist2d1=plt.hist2d(n_truth, n_object, bins=np.arange(max(np.max(n_object), np.max(n_truth))+2)-0.5, norm=mpl.colors.LogNorm(), cmap='inferno')\n",
    "plt.xlabel('Number of truth galaxies', fontsize=12)\n",
    "plt.ylabel('Number of detected objects', fontsize=12)\n",
    "plt.colorbar(label=r'$N_{\\rm groups}$')\n",
    "plt.gca().set_aspect('equal')\n",
    "plt.title('Histogram of galaxies grouping by FoF algorithm ')\n",
    "\n",
    "plt2=plt.subplot(222)\n",
    "hist2d2_2cut_sat=plt.hist2d(n_truth_2cut_sat, n_object,\n",
    "                    bins=np.arange(max(np.max(n_object), \n",
    "                    np.max(n_truth))+2)-0.5,\n",
    "                    norm=mpl.colors.LogNorm(), cmap='inferno')\n",
    "plt.xlabel('Number of all sat truth galaxies with halo_mass>1e13 an for z<1.5', fontsize=12)\n",
    "plt.ylabel('Number of detected objects', fontsize=12)\n",
    "plt.colorbar(label=r'$N_{\\rm groups}$')\n",
    "plt.gca().set_aspect('equal')\n",
    "plt.title('Histogram of all sat truth galaxies with halo_mass>1e13 an for z<1.5')\n",
    "\n",
    "plt.show()"
   ]
  },
  {
   "cell_type": "code",
   "execution_count": 32,
   "id": "a13455b9-ee0e-4669-b9e7-f702e0e83d2e",
   "metadata": {},
   "outputs": [
    {
     "name": "stdout",
     "output_type": "stream",
     "text": [
      "missed detections :\n",
      "nbr of (1-0) systems for all sat truth galaxies with z<1,5 and halo_mass>1e13 = 11940.0\n",
      "recognized blending :\n",
      "nbr of (1-1) systems = 18336.0\n",
      "unrecognized blending :\n",
      "nbr of (2-1) systems = 87.0\n"
     ]
    }
   ],
   "source": [
    "print(\"missed detections :\")\n",
    "\n",
    "print(\"nbr of (1-0) systems for all sat truth galaxies with z<1,5 and halo_mass>1e13 =\", hist2d2_2cut_sat[0][1,0])\n",
    "\n",
    "print(\"recognized blending :\")\n",
    "\n",
    "print(\"nbr of (1-1) systems =\", hist2d2_2cut_sat[0][1,1])\n",
    "\n",
    "print(\"unrecognized blending :\")\n",
    "\n",
    "print(\"nbr of (2-1) systems =\", hist2d2_2cut_sat[0][2,1])"
   ]
  },
  {
   "cell_type": "code",
   "execution_count": 33,
   "id": "4cc12168-1e93-4227-bd2b-ab811c6557e5",
   "metadata": {},
   "outputs": [
    {
     "name": "stdout",
     "output_type": "stream",
     "text": [
      "% of (1-0) systems in all sat truth galaxies with z<1,5 and halo_mass>1e13 : 39.19637581248769\n",
      "% of (1-1) systems in all sat truth galaxies with z<1,5 and halo_mass>1e13 : 60.19302737837305\n",
      "% of (2-1) systems in all sat truth galaxies with z<1,5 and halo_mass>1e13 : 0.2856017333070711\n"
     ]
    }
   ],
   "source": [
    "print(\"% of (1-0) systems in all sat truth galaxies with z<1,5 and halo_mass>1e13 :\",\n",
    "     (hist2d2_2cut_sat[0][1,0]/len(results[truth_mask][ind_galax_sat][np.where((truth_data_z[ind_galax_sat]<z_max_cut) & (truth_data_halo_mass[ind_galax_sat]>halo_mass_cut))[0]]))*100)\n",
    "\n",
    "print(\"% of (1-1) systems in all sat truth galaxies with z<1,5 and halo_mass>1e13 :\",\n",
    "     (hist2d2_2cut_sat[0][1,1]/len(results[truth_mask][ind_galax_sat][np.where((truth_data_z[ind_galax_sat]<z_max_cut) & (truth_data_halo_mass[ind_galax_sat]>halo_mass_cut))[0]]))*100)\n",
    "\n",
    "print(\"% of (2-1) systems in all sat truth galaxies with z<1,5 and halo_mass>1e13 :\",\n",
    "     (hist2d2_2cut_sat[0][2,1]/len(results[truth_mask][ind_galax_sat][np.where((truth_data_z[ind_galax_sat]<z_max_cut) & (truth_data_halo_mass[ind_galax_sat]>halo_mass_cut))[0]]))*100)"
   ]
  },
  {
   "cell_type": "markdown",
   "id": "00bbd670-96d6-45e8-bf8f-782a0e5f911c",
   "metadata": {},
   "source": [
    "# (2-1) system with background galaxies :"
   ]
  },
  {
   "cell_type": "code",
   "execution_count": 34,
   "id": "43d22063-20ae-46e2-bde0-c1d3d25f3db8",
   "metadata": {},
   "outputs": [],
   "source": [
    "#selection indice de TOUTES les galaxies présentes dans les systèmes 2-1 :\n",
    "\n",
    "system_2_1_mask_all_back1= np.in1d(results['group_id'], np.flatnonzero((n_truth == 2) & (n_object == 1)))\n",
    "\n",
    "ind_truth_all_2_1_back1=results[system_2_1_mask_all_back1 & truth_mask]['row_index'].copy()"
   ]
  },
  {
   "cell_type": "code",
   "execution_count": 35,
   "id": "3dd9da77-68bd-4fee-ad48-2910086c4032",
   "metadata": {},
   "outputs": [
    {
     "data": {
      "text/html": [
       "<div><i>Table length=109716</i>\n",
       "<table id=\"table140599183536960\" class=\"table-striped table-bordered table-condensed\">\n",
       "<thead><tr><th>row_index</th><th>catalog_key</th><th>group_id</th></tr></thead>\n",
       "<thead><tr><th>int64</th><th>str6</th><th>int64</th></tr></thead>\n",
       "<tr><td>803522</td><td>galaxy</td><td>27</td></tr>\n",
       "<tr><td>2329731</td><td>galaxy</td><td>27</td></tr>\n",
       "<tr><td>890764</td><td>galaxy</td><td>72</td></tr>\n",
       "<tr><td>1036433</td><td>galaxy</td><td>72</td></tr>\n",
       "<tr><td>1959376</td><td>galaxy</td><td>102</td></tr>\n",
       "<tr><td>2799277</td><td>galaxy</td><td>102</td></tr>\n",
       "<tr><td>1808633</td><td>galaxy</td><td>111</td></tr>\n",
       "<tr><td>2825533</td><td>galaxy</td><td>111</td></tr>\n",
       "<tr><td>1817369</td><td>galaxy</td><td>113</td></tr>\n",
       "<tr><td>2010983</td><td>galaxy</td><td>113</td></tr>\n",
       "<tr><td>...</td><td>...</td><td>...</td></tr>\n",
       "<tr><td>361533</td><td>galaxy</td><td>676573</td></tr>\n",
       "<tr><td>2514618</td><td>galaxy</td><td>676573</td></tr>\n",
       "<tr><td>1435290</td><td>galaxy</td><td>676617</td></tr>\n",
       "<tr><td>2545009</td><td>galaxy</td><td>676617</td></tr>\n",
       "<tr><td>1399784</td><td>galaxy</td><td>676640</td></tr>\n",
       "<tr><td>1506758</td><td>galaxy</td><td>676640</td></tr>\n",
       "<tr><td>137101</td><td>galaxy</td><td>676652</td></tr>\n",
       "<tr><td>317841</td><td>galaxy</td><td>676652</td></tr>\n",
       "<tr><td>1344178</td><td>galaxy</td><td>676653</td></tr>\n",
       "<tr><td>1576495</td><td>galaxy</td><td>676653</td></tr>\n",
       "</table></div>"
      ],
      "text/plain": [
       "<Table length=109716>\n",
       "row_index catalog_key group_id\n",
       "  int64       str6     int64  \n",
       "--------- ----------- --------\n",
       "   803522      galaxy       27\n",
       "  2329731      galaxy       27\n",
       "   890764      galaxy       72\n",
       "  1036433      galaxy       72\n",
       "  1959376      galaxy      102\n",
       "  2799277      galaxy      102\n",
       "  1808633      galaxy      111\n",
       "  2825533      galaxy      111\n",
       "  1817369      galaxy      113\n",
       "  2010983      galaxy      113\n",
       "      ...         ...      ...\n",
       "   361533      galaxy   676573\n",
       "  2514618      galaxy   676573\n",
       "  1435290      galaxy   676617\n",
       "  2545009      galaxy   676617\n",
       "  1399784      galaxy   676640\n",
       "  1506758      galaxy   676640\n",
       "   137101      galaxy   676652\n",
       "   317841      galaxy   676652\n",
       "  1344178      galaxy   676653\n",
       "  1576495      galaxy   676653"
      ]
     },
     "execution_count": 35,
     "metadata": {},
     "output_type": "execute_result"
    }
   ],
   "source": [
    "results[system_2_1_mask_all_back1 & truth_mask]"
   ]
  },
  {
   "cell_type": "code",
   "execution_count": 36,
   "id": "6728c298-9d30-4d33-b466-54d390fd970d",
   "metadata": {},
   "outputs": [],
   "source": [
    "#selection indice de TOUTES les galaxies présentes dans les systèmes 2-1 avec une méthode différente mais donnant exactement le même résultat:\n",
    "\n",
    "system_2_1_mask_all_back2= np.in1d(results[truth_mask]['group_id'], np.flatnonzero((n_truth == 2) & (n_object == 1)))\n",
    "\n",
    "ind_truth_all_2_1_back2=results[truth_mask][system_2_1_mask_all_back2]['row_index'].copy()"
   ]
  },
  {
   "cell_type": "code",
   "execution_count": 37,
   "id": "cd266ea7-1f93-4667-9a29-f46b42ca178a",
   "metadata": {},
   "outputs": [
    {
     "data": {
      "text/html": [
       "<div><i>Table length=109716</i>\n",
       "<table id=\"table140599183693456\" class=\"table-striped table-bordered table-condensed\">\n",
       "<thead><tr><th>row_index</th><th>catalog_key</th><th>group_id</th></tr></thead>\n",
       "<thead><tr><th>int64</th><th>str6</th><th>int64</th></tr></thead>\n",
       "<tr><td>803522</td><td>galaxy</td><td>27</td></tr>\n",
       "<tr><td>2329731</td><td>galaxy</td><td>27</td></tr>\n",
       "<tr><td>890764</td><td>galaxy</td><td>72</td></tr>\n",
       "<tr><td>1036433</td><td>galaxy</td><td>72</td></tr>\n",
       "<tr><td>1959376</td><td>galaxy</td><td>102</td></tr>\n",
       "<tr><td>2799277</td><td>galaxy</td><td>102</td></tr>\n",
       "<tr><td>1808633</td><td>galaxy</td><td>111</td></tr>\n",
       "<tr><td>2825533</td><td>galaxy</td><td>111</td></tr>\n",
       "<tr><td>1817369</td><td>galaxy</td><td>113</td></tr>\n",
       "<tr><td>2010983</td><td>galaxy</td><td>113</td></tr>\n",
       "<tr><td>...</td><td>...</td><td>...</td></tr>\n",
       "<tr><td>361533</td><td>galaxy</td><td>676573</td></tr>\n",
       "<tr><td>2514618</td><td>galaxy</td><td>676573</td></tr>\n",
       "<tr><td>1435290</td><td>galaxy</td><td>676617</td></tr>\n",
       "<tr><td>2545009</td><td>galaxy</td><td>676617</td></tr>\n",
       "<tr><td>1399784</td><td>galaxy</td><td>676640</td></tr>\n",
       "<tr><td>1506758</td><td>galaxy</td><td>676640</td></tr>\n",
       "<tr><td>137101</td><td>galaxy</td><td>676652</td></tr>\n",
       "<tr><td>317841</td><td>galaxy</td><td>676652</td></tr>\n",
       "<tr><td>1344178</td><td>galaxy</td><td>676653</td></tr>\n",
       "<tr><td>1576495</td><td>galaxy</td><td>676653</td></tr>\n",
       "</table></div>"
      ],
      "text/plain": [
       "<Table length=109716>\n",
       "row_index catalog_key group_id\n",
       "  int64       str6     int64  \n",
       "--------- ----------- --------\n",
       "   803522      galaxy       27\n",
       "  2329731      galaxy       27\n",
       "   890764      galaxy       72\n",
       "  1036433      galaxy       72\n",
       "  1959376      galaxy      102\n",
       "  2799277      galaxy      102\n",
       "  1808633      galaxy      111\n",
       "  2825533      galaxy      111\n",
       "  1817369      galaxy      113\n",
       "  2010983      galaxy      113\n",
       "      ...         ...      ...\n",
       "   361533      galaxy   676573\n",
       "  2514618      galaxy   676573\n",
       "  1435290      galaxy   676617\n",
       "  2545009      galaxy   676617\n",
       "  1399784      galaxy   676640\n",
       "  1506758      galaxy   676640\n",
       "   137101      galaxy   676652\n",
       "   317841      galaxy   676652\n",
       "  1344178      galaxy   676653\n",
       "  1576495      galaxy   676653"
      ]
     },
     "execution_count": 37,
     "metadata": {},
     "output_type": "execute_result"
    }
   ],
   "source": [
    "results[truth_mask][system_2_1_mask_all_back2]"
   ]
  },
  {
   "cell_type": "code",
   "execution_count": 38,
   "id": "6233859f-bcc5-4986-8e21-2e2497bdc83c",
   "metadata": {},
   "outputs": [
    {
     "name": "stdout",
     "output_type": "stream",
     "text": [
      "aucune différence entre les deux méthodes\n"
     ]
    }
   ],
   "source": [
    "np.where(results[system_2_1_mask_all_back1 & truth_mask] != results[truth_mask][system_2_1_mask_all_back2])[0]\n",
    "\n",
    "print('aucune différence entre les deux méthodes')"
   ]
  },
  {
   "cell_type": "code",
   "execution_count": 39,
   "id": "e883092e-c2cd-436c-ad96-d3b51c0f22c3",
   "metadata": {},
   "outputs": [],
   "source": [
    "n_truth_z_max_cut_all = np.bincount(results[truth_mask][np.where(truth_data['redshift'][ind_galax]<z_max_cut)[0]]['group_id'],\n",
    "                                    minlength=n_groups)\n",
    "\n",
    "#selection indice de TOUTES les galaxies (pas forcément faisant parti d'un amas mais de z<1,5) présentes dans les systèmes 2-1 :\n",
    "\n",
    "system_2_1_mask_all_back= np.in1d(results[truth_mask][np.where((truth_data_z<z_max_cut))[0]]['group_id'], np.flatnonzero((n_truth_z_max_cut_all == 2) & (n_object == 1)))\n",
    "\n",
    "ind_truth_all_2_1_back=results[truth_mask][np.where((truth_data_z<z_max_cut))[0]][system_2_1_mask_all_back]['row_index'].copy()"
   ]
  },
  {
   "cell_type": "code",
   "execution_count": 40,
   "id": "a1626961-3418-4106-b767-bf4f4ec778b6",
   "metadata": {},
   "outputs": [
    {
     "data": {
      "text/html": [
       "<div><i>Table length=59446</i>\n",
       "<table id=\"table140599184058032\" class=\"table-striped table-bordered table-condensed\">\n",
       "<thead><tr><th>row_index</th><th>catalog_key</th><th>group_id</th></tr></thead>\n",
       "<thead><tr><th>int64</th><th>str6</th><th>int64</th></tr></thead>\n",
       "<tr><td>890764</td><td>galaxy</td><td>72</td></tr>\n",
       "<tr><td>1036433</td><td>galaxy</td><td>72</td></tr>\n",
       "<tr><td>1817369</td><td>galaxy</td><td>113</td></tr>\n",
       "<tr><td>2010983</td><td>galaxy</td><td>113</td></tr>\n",
       "<tr><td>479187</td><td>galaxy</td><td>133</td></tr>\n",
       "<tr><td>1769250</td><td>galaxy</td><td>133</td></tr>\n",
       "<tr><td>1069908</td><td>galaxy</td><td>153</td></tr>\n",
       "<tr><td>1707463</td><td>galaxy</td><td>153</td></tr>\n",
       "<tr><td>490483</td><td>galaxy</td><td>154</td></tr>\n",
       "<tr><td>1744944</td><td>galaxy</td><td>154</td></tr>\n",
       "<tr><td>...</td><td>...</td><td>...</td></tr>\n",
       "<tr><td>479972</td><td>galaxy</td><td>1152011</td></tr>\n",
       "<tr><td>708758</td><td>galaxy</td><td>1152011</td></tr>\n",
       "<tr><td>1104739</td><td>galaxy</td><td>1465044</td></tr>\n",
       "<tr><td>1135618</td><td>galaxy</td><td>1465044</td></tr>\n",
       "<tr><td>134082</td><td>galaxy</td><td>1781229</td></tr>\n",
       "<tr><td>292903</td><td>galaxy</td><td>1781229</td></tr>\n",
       "<tr><td>1833805</td><td>galaxy</td><td>2088340</td></tr>\n",
       "<tr><td>1959498</td><td>galaxy</td><td>2088340</td></tr>\n",
       "<tr><td>1982180</td><td>galaxy</td><td>2206308</td></tr>\n",
       "<tr><td>2112725</td><td>galaxy</td><td>2206308</td></tr>\n",
       "</table></div>"
      ],
      "text/plain": [
       "<Table length=59446>\n",
       "row_index catalog_key group_id\n",
       "  int64       str6     int64  \n",
       "--------- ----------- --------\n",
       "   890764      galaxy       72\n",
       "  1036433      galaxy       72\n",
       "  1817369      galaxy      113\n",
       "  2010983      galaxy      113\n",
       "   479187      galaxy      133\n",
       "  1769250      galaxy      133\n",
       "  1069908      galaxy      153\n",
       "  1707463      galaxy      153\n",
       "   490483      galaxy      154\n",
       "  1744944      galaxy      154\n",
       "      ...         ...      ...\n",
       "   479972      galaxy  1152011\n",
       "   708758      galaxy  1152011\n",
       "  1104739      galaxy  1465044\n",
       "  1135618      galaxy  1465044\n",
       "   134082      galaxy  1781229\n",
       "   292903      galaxy  1781229\n",
       "  1833805      galaxy  2088340\n",
       "  1959498      galaxy  2088340\n",
       "  1982180      galaxy  2206308\n",
       "  2112725      galaxy  2206308"
      ]
     },
     "execution_count": 40,
     "metadata": {},
     "output_type": "execute_result"
    }
   ],
   "source": [
    "results[truth_mask][np.where((truth_data_z<z_max_cut))[0]][system_2_1_mask_all_back]"
   ]
  },
  {
   "cell_type": "code",
   "execution_count": 41,
   "id": "49671c61-f2aa-431e-bbdf-c21c718886cb",
   "metadata": {},
   "outputs": [],
   "source": [
    "#selection of systems with at least one of the 2 galaxies belonging to a cluster :\n",
    "\n",
    "ind_truth_all_2_1_back_good=np.zeros(len(ind_truth_all_2_1_back))\n",
    "i=0\n",
    "for i in range (0,len(ind_truth_all_2_1_back)-2) :\n",
    "    i+=2\n",
    "    if ((truth_data['halo_mass'][ind_truth_all_2_1_back[i-2]] > halo_mass_cut) or (truth_data['halo_mass'][ind_truth_all_2_1_back[i-1]] > halo_mass_cut)) :\n",
    "        ind_truth_all_2_1_back_good[i-2]=ind_truth_all_2_1_back[i-2]\n",
    "        ind_truth_all_2_1_back_good[i-1]=ind_truth_all_2_1_back[i-1]"
   ]
  },
  {
   "cell_type": "code",
   "execution_count": 42,
   "id": "fb380b01-f5df-456c-9eab-f1d97c78a018",
   "metadata": {},
   "outputs": [
    {
     "data": {
      "text/plain": [
       "3543"
      ]
     },
     "execution_count": 42,
     "metadata": {},
     "output_type": "execute_result"
    }
   ],
   "source": [
    "ind_truth_all_2_1_back_good=ind_truth_all_2_1_back_good[np.where(ind_truth_all_2_1_back_good != 0)[0]].copy()\n",
    "\n",
    "len(ind_truth_all_2_1_back_good)"
   ]
  },
  {
   "cell_type": "code",
   "execution_count": 43,
   "id": "9ce6513c-e1d1-4fa4-b9c9-5851d13f5d60",
   "metadata": {},
   "outputs": [
    {
     "name": "stdout",
     "output_type": "stream",
     "text": [
      "% of (2-1) systems (with at least 1 of the 2 galaxies of the system belonging to a cluster) in all clusters with z<1,5 = 11.114945413477225\n"
     ]
    }
   ],
   "source": [
    "print(\"% of (2-1) systems (with at least 1 of the 2 galaxies of the system belonging to a cluster) in all clusters with z<1,5 =\", (len(ind_truth_all_2_1_back_good)/len(results[truth_mask][np.where((truth_data_z<z_max_cut) & (truth_data_halo_mass>halo_mass_cut))[0]]))*100)"
   ]
  },
  {
   "cell_type": "code",
   "execution_count": 44,
   "id": "6e7a8127-a494-4cea-bcad-8df0905bce89",
   "metadata": {},
   "outputs": [],
   "source": [
    "#selection of system with 2 galaxies belonging to a cluster :\n",
    "\n",
    "ind_truth_all_2_1_back_good2=np.zeros(len(ind_truth_all_2_1_back2))\n",
    "i=0\n",
    "for i in range (0,len(ind_truth_all_2_1_back2)-2) :\n",
    "    i+=2\n",
    "    if ((truth_data['halo_mass'][ind_truth_all_2_1_back2[i-2]] > halo_mass_cut) & (truth_data['halo_mass'][ind_truth_all_2_1_back2[i-1]] > halo_mass_cut)) :\n",
    "        ind_truth_all_2_1_back_good2[i-2]=ind_truth_all_2_1_back2[i-2]\n",
    "        ind_truth_all_2_1_back_good2[i-1]=ind_truth_all_2_1_back2[i-1]"
   ]
  },
  {
   "cell_type": "code",
   "execution_count": 45,
   "id": "45dbd2cb-b8a2-4f85-a8d9-7fdca99d7e2a",
   "metadata": {},
   "outputs": [
    {
     "data": {
      "text/plain": [
       "389"
      ]
     },
     "execution_count": 45,
     "metadata": {},
     "output_type": "execute_result"
    }
   ],
   "source": [
    "ind_truth_all_2_1_back_good2=ind_truth_all_2_1_back_good2[np.where(ind_truth_all_2_1_back_good2 != 0)[0]].copy()\n",
    "\n",
    "len(ind_truth_all_2_1_back_good2)"
   ]
  },
  {
   "cell_type": "code",
   "execution_count": 46,
   "id": "a8bead77-cc7b-4e4f-a64c-88e5fa4e0bb0",
   "metadata": {},
   "outputs": [
    {
     "name": "stdout",
     "output_type": "stream",
     "text": [
      "% of (2-1) systems (with the two galaxies belonging to a cluster) in the different clusters = 1.2203538712510982\n"
     ]
    }
   ],
   "source": [
    "print(\"% of (2-1) systems (with the two galaxies belonging to a cluster) in the different clusters =\", (len(ind_truth_all_2_1_back_good2)/len(results[truth_mask][np.where((truth_data_z<z_max_cut) & (truth_data_halo_mass>halo_mass_cut))[0]]))*100)"
   ]
  }
 ],
 "metadata": {
  "kernelspec": {
   "display_name": "desc",
   "language": "python",
   "name": "desc"
  },
  "language_info": {
   "codemirror_mode": {
    "name": "ipython",
    "version": 3
   },
   "file_extension": ".py",
   "mimetype": "text/x-python",
   "name": "python",
   "nbconvert_exporter": "python",
   "pygments_lexer": "ipython3",
   "version": "3.10.9"
  }
 },
 "nbformat": 4,
 "nbformat_minor": 5
}
