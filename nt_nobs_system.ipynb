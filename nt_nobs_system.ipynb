{
 "cells": [
  {
   "cell_type": "code",
   "execution_count": 1,
   "id": "fb7a924b-bd63-4d06-a936-85e32f5af867",
   "metadata": {},
   "outputs": [],
   "source": [
    "import numpy as np\n",
    "import matplotlib.pyplot as plt\n",
    "import matplotlib as mpl\n",
    "from astropy.table import Table\n",
    "import GCRCatalogs\n",
    "from GCR import GCRQuery\n",
    "import statistics\n",
    "import os, sys\n",
    "import healpy as hp\n",
    "from tqdm.auto import tqdm, trange\n",
    "import scipy.stats\n",
    "import FoFCatalogMatching\n",
    "import pandas as pd\n",
    "from astropy.coordinates import SkyCoord\n",
    "from scipy.stats import pearsonr\n",
    "import warnings"
   ]
  },
  {
   "cell_type": "code",
   "execution_count": 2,
   "id": "80a34dbc-a1bb-41ac-8605-2500543ebff0",
   "metadata": {},
   "outputs": [],
   "source": [
    "warnings.filterwarnings('ignore')"
   ]
  },
  {
   "cell_type": "markdown",
   "id": "5d0b7bd1-9830-46b5-8772-f00b659a4503",
   "metadata": {},
   "source": [
    "### Z and mag filters :"
   ]
  },
  {
   "cell_type": "code",
   "execution_count": 3,
   "id": "32068e6a-30c1-45fe-8c19-a1f83269cbfb",
   "metadata": {},
   "outputs": [],
   "source": [
    "# mag filters :\n",
    "\n",
    "object_mag_filters = ['mag_i_cModel < 26.2', 'mag_i_cModel > 15',\n",
    "    (np.isfinite, 'mag_i_cModel'), (np.isfinite, 'mag_r_cModel'), (np.isfinite, 'mag_z_cModel')]\n",
    "\n",
    "truth_mag_filters = ['mag_i<28.9','mag_i>15',(np.isfinite, 'mag_i'), (np.isfinite, 'mag_r'), (np.isfinite, 'mag_z')]\n",
    "\n",
    "# z filters (grande):\n",
    "\n",
    "object_z_filters = ['photoz_mean < 1.5', (np.isfinite, 'photoz_mean')]\n",
    "\n",
    "truth_z_filters = ['redshift < 1.5', (np.isfinite, 'redshift')] "
   ]
  },
  {
   "cell_type": "markdown",
   "id": "ad46889f-c90e-4b98-b0f0-34b44010e524",
   "metadata": {},
   "source": [
    "### CosmoDC2 and DC2Objects (truth and object) :"
   ]
  },
  {
   "cell_type": "code",
   "execution_count": 4,
   "id": "0a629a46-9841-4773-86d1-167c2bf14f42",
   "metadata": {},
   "outputs": [],
   "source": [
    "cosmodc2 = GCRCatalogs.load_catalog('cosmoDC2_v1.1.4_image') #truth catalog\n",
    "dc2 = GCRCatalogs.load_catalog('dc2_object_run2.2i_dr6_with_addons') #object catalog"
   ]
  },
  {
   "cell_type": "code",
   "execution_count": 5,
   "id": "c119d240-2d23-489d-8097-236e1dff53bf",
   "metadata": {},
   "outputs": [],
   "source": [
    "cosmodc2.get_quantity_info('is_central')"
   ]
  },
  {
   "cell_type": "code",
   "execution_count": 6,
   "id": "853ac1fc-ef3a-423f-8b58-ab5ad6182f6f",
   "metadata": {},
   "outputs": [
    {
     "name": "stdout",
     "output_type": "stream",
     "text": [
      "<class 'dict'>\n"
     ]
    }
   ],
   "source": [
    "#data object catalog :\n",
    "\n",
    "object_quantities = ['ra', 'dec', 'mag_i_cModel', 'photoz_mean']\n",
    "\n",
    "object_data = (dc2.get_quantities(object_quantities,\n",
    "                                 filters=['extendedness>0', 'clean']+object_mag_filters+object_z_filters,\n",
    "                                 native_filters=['tract==4026']))\n",
    "\n",
    "print(type(object_data))"
   ]
  },
  {
   "cell_type": "code",
   "execution_count": 7,
   "id": "80e8700b-181c-4ccd-883b-4404788e629a",
   "metadata": {},
   "outputs": [],
   "source": [
    "# data truth catalog :\n",
    "\n",
    "eps = 10/3600 # 10 arcsec\n",
    "max_ra = np.nanmax(object_data['ra']) + eps\n",
    "min_ra = np.nanmin(object_data['ra']) - eps\n",
    "max_dec = np.nanmax(object_data['dec']) + eps\n",
    "min_dec = np.nanmin(object_data['dec']) - eps\n",
    "pos_filters = [f'ra >= {min_ra}',f'ra <= {max_ra}', f'dec >= {min_dec}', f'dec <= {max_dec}']\n",
    "\n",
    "vertices = hp.ang2vec(np.array([min_ra, max_ra, max_ra, min_ra]),\n",
    "                      np.array([min_dec, min_dec, max_dec, max_dec]), lonlat=True)\n",
    "ipix = hp.query_polygon(32, vertices, inclusive=True)\n",
    "healpix_filter = GCRQuery((lambda h: np.isin(h, ipix, True), \"healpix_pixel\"))"
   ]
  },
  {
   "cell_type": "code",
   "execution_count": 8,
   "id": "e6198005-72cc-4b2a-824b-43aad3eef3fa",
   "metadata": {},
   "outputs": [],
   "source": [
    "truth_quantities = ['galaxy_id', 'ra', 'dec', 'mag_i', 'redshift', 'is_central', 'halo_mass', 'halo_id']\n",
    "\n",
    "truth_data = (cosmodc2.get_quantities(truth_quantities, \n",
    "                                      filters=truth_mag_filters+pos_filters+truth_z_filters, \n",
    "                                      native_filters=healpix_filter))"
   ]
  },
  {
   "cell_type": "code",
   "execution_count": 9,
   "id": "19ca1c2a-9b1d-44d0-9ae8-76252da6e16d",
   "metadata": {},
   "outputs": [
    {
     "data": {
      "text/plain": [
       "['redshift', 'halo_mass', 'ra', 'mag_i', 'is_central', 'dec', 'galaxy_id']"
      ]
     },
     "execution_count": 9,
     "metadata": {},
     "output_type": "execute_result"
    }
   ],
   "source": [
    "list(truth_data)"
   ]
  },
  {
   "cell_type": "code",
   "execution_count": 10,
   "id": "5e415049-9457-476a-9ee4-e222f8a780c4",
   "metadata": {},
   "outputs": [
    {
     "data": {
      "text/plain": [
       "array([5.07006249e+12, 5.07006249e+12, 3.79915201e+10, ...,\n",
       "       3.66026775e+10, 2.66634575e+10, 1.77529818e+10])"
      ]
     },
     "execution_count": 10,
     "metadata": {},
     "output_type": "execute_result"
    }
   ],
   "source": [
    "truth_data['halo_mass']"
   ]
  },
  {
   "cell_type": "code",
   "execution_count": 11,
   "id": "2a892012-9e07-4d5d-9766-899d4fab4c2c",
   "metadata": {},
   "outputs": [
    {
     "name": "stdout",
     "output_type": "stream",
     "text": [
      "nombre de galaxies = 2895422\n",
      "nombre de galaxies centrales = 2735018\n",
      "pourcentage de galaxies centrales = 94.46008215728139 %\n",
      "nombre d'objets = 538285\n"
     ]
    }
   ],
   "source": [
    "print(\"nombre de galaxies =\", len(truth_data['ra']))\n",
    "print(\"nombre de galaxies centrales =\", len(np.where(truth_data['is_central']==True)[0]))\n",
    "print(\"pourcentage de galaxies centrales =\", (len(np.where(truth_data['is_central']==True)[0])/len(truth_data['ra']))*100, '%')\n",
    "print(\"nombre d'objets =\", len(object_data['ra']))"
   ]
  },
  {
   "cell_type": "code",
   "execution_count": 12,
   "id": "a3728f7e-2253-4a10-b58e-0c9cd743f0a7",
   "metadata": {},
   "outputs": [
    {
     "data": {
      "text/plain": [
       "array([23.95609176, 27.467791  , 23.78634715, ..., 28.12386336,\n",
       "       27.58106806, 28.8712917 ])"
      ]
     },
     "execution_count": 12,
     "metadata": {},
     "output_type": "execute_result"
    }
   ],
   "source": [
    "truth_data['mag_i'][np.where(truth_data['is_central']==True)[0]]"
   ]
  },
  {
   "cell_type": "code",
   "execution_count": 37,
   "id": "5e68eee0-e46e-48a4-9a4d-713213a2fb1b",
   "metadata": {},
   "outputs": [
    {
     "data": {
      "text/plain": [
       "(array([1.e-01, 1.e+00, 1.e+01, 1.e+02, 1.e+03, 1.e+04, 1.e+05, 1.e+06,\n",
       "        1.e+07]),\n",
       " [Text(0, 0.1, '$\\\\mathdefault{10^{-1}}$'),\n",
       "  Text(0, 1.0, '$\\\\mathdefault{10^{0}}$'),\n",
       "  Text(0, 10.0, '$\\\\mathdefault{10^{1}}$'),\n",
       "  Text(0, 100.0, '$\\\\mathdefault{10^{2}}$'),\n",
       "  Text(0, 1000.0, '$\\\\mathdefault{10^{3}}$'),\n",
       "  Text(0, 10000.0, '$\\\\mathdefault{10^{4}}$'),\n",
       "  Text(0, 100000.0, '$\\\\mathdefault{10^{5}}$'),\n",
       "  Text(0, 1000000.0, '$\\\\mathdefault{10^{6}}$'),\n",
       "  Text(0, 10000000.0, '$\\\\mathdefault{10^{7}}$')])"
      ]
     },
     "execution_count": 37,
     "metadata": {},
     "output_type": "execute_result"
    },
    {
     "data": {
      "image/png": "[encoded data removed]",
      "text/plain": [
       "<Figure size 640x480 with 1 Axes>"
      ]
     },
     "metadata": {},
     "output_type": "display_data"
    }
   ],
   "source": [
    "plt.figure()\n",
    "truth_hist_central=plt.hist(truth_data['mag_i'][np.where(truth_data['is_central']==True)[0]], bins=50, \n",
    "                            histtype='step', label='i-magnitude truth for central galaxy', log=True)\n",
    "truth_hist=plt.hist(truth_data['mag_i'], bins=50, histtype='step', label='i-magnitude truth', log=True)\n",
    "plt.legend()\n",
    "plt.xlabel('mag')\n",
    "plt.ylabel('number of object(object)/galaxies(truth)')\n",
    "plt.xticks()\n",
    "plt.yticks()"
   ]
  },
  {
   "cell_type": "code",
   "execution_count": 42,
   "id": "efb7dc05-fb13-4f29-bb7c-5332820e6295",
   "metadata": {},
   "outputs": [
    {
     "data": {
      "text/plain": [
       "(array([1.e-01, 1.e+00, 1.e+01, 1.e+02, 1.e+03, 1.e+04, 1.e+05, 1.e+06,\n",
       "        1.e+07]),\n",
       " [Text(0, 0.1, '$\\\\mathdefault{10^{-1}}$'),\n",
       "  Text(0, 1.0, '$\\\\mathdefault{10^{0}}$'),\n",
       "  Text(0, 10.0, '$\\\\mathdefault{10^{1}}$'),\n",
       "  Text(0, 100.0, '$\\\\mathdefault{10^{2}}$'),\n",
       "  Text(0, 1000.0, '$\\\\mathdefault{10^{3}}$'),\n",
       "  Text(0, 10000.0, '$\\\\mathdefault{10^{4}}$'),\n",
       "  Text(0, 100000.0, '$\\\\mathdefault{10^{5}}$'),\n",
       "  Text(0, 1000000.0, '$\\\\mathdefault{10^{6}}$'),\n",
       "  Text(0, 10000000.0, '$\\\\mathdefault{10^{7}}$')])"
      ]
     },
     "execution_count": 42,
     "metadata": {},
     "output_type": "execute_result"
    },
    {
     "data": {
      "image/png": "[encoded data removed]",
      "text/plain": [
       "<Figure size 640x480 with 1 Axes>"
      ]
     },
     "metadata": {},
     "output_type": "display_data"
    }
   ],
   "source": [
    "plt.figure()\n",
    "truth_hist_central=plt.hist(np.log10(truth_data['halo_mass'])[np.where(truth_data['is_central']==True)[0]], bins=50, \n",
    "                            histtype='step', label='halo_mass truth for central galaxy', log=True)\n",
    "truth_hist=plt.hist(np.log10(truth_data['halo_mass']), bins=50, histtype='step', label='halo_mass truth', log=True)\n",
    "plt.legend()\n",
    "plt.xlabel('halo_mass')\n",
    "plt.ylabel('number of object(object)/galaxies(truth)')\n",
    "plt.xticks()\n",
    "plt.yticks()"
   ]
  },
  {
   "cell_type": "code",
   "execution_count": 31,
   "id": "48f28cde-b7bd-4f2f-a4c1-5c4454403209",
   "metadata": {},
   "outputs": [],
   "source": [
    "indice=np.where(truth_data['is_central']==True)[0]\n",
    "redshift=truth_data['redshift']\n",
    "halo_mass=truth_data['halo_mass']\n",
    "mag_i=truth_data['mag_i']\n",
    "galaxy_id=truth_data['galaxy_id']\n",
    "is_central=truth_data['is_central']"
   ]
  },
  {
   "cell_type": "code",
   "execution_count": 33,
   "id": "240df07d-bb73-4280-ba54-6102f2bab621",
   "metadata": {},
   "outputs": [
    {
     "data": {
      "text/plain": [
       "2735018"
      ]
     },
     "execution_count": 33,
     "metadata": {},
     "output_type": "execute_result"
    }
   ],
   "source": [
    "len(redshift[indice])"
   ]
  },
  {
   "cell_type": "markdown",
   "id": "95eba13b-3f27-4b10-bdf2-5634a04b5e2c",
   "metadata": {},
   "source": [
    "### FoF algo :"
   ]
  },
  {
   "cell_type": "code",
   "execution_count": 43,
   "id": "e528a56e-e79b-4507-8499-57b7549f2ef0",
   "metadata": {},
   "outputs": [
    {
     "data": {
      "text/plain": [
       "['redshift', 'halo_mass', 'ra', 'mag_i', 'is_central', 'dec', 'galaxy_id']"
      ]
     },
     "execution_count": 43,
     "metadata": {},
     "output_type": "execute_result"
    }
   ],
   "source": [
    "list(truth_data)"
   ]
  },
  {
   "cell_type": "code",
   "execution_count": null,
   "id": "85a27a86-3681-407a-8271-0ed622990a9f",
   "metadata": {},
   "outputs": [],
   "source": [
    "truth_data['is_central']"
   ]
  },
  {
   "cell_type": "code",
   "execution_count": 50,
   "id": "b580b2ad-acac-4ec1-b777-dde4e57d10c2",
   "metadata": {},
   "outputs": [
    {
     "ename": "KeyError",
     "evalue": "('redshift', 'is_central')",
     "output_type": "error",
     "traceback": [
      "\u001b[0;31m---------------------------------------------------------------------------\u001b[0m",
      "\u001b[0;31mKeyError\u001b[0m                                  Traceback (most recent call last)",
      "Cell \u001b[0;32mIn[52], line 1\u001b[0m\n\u001b[0;32m----> 1\u001b[0m \u001b[43mtruth_data\u001b[49m\u001b[43m[\u001b[49m\u001b[38;5;124;43m'\u001b[39;49m\u001b[38;5;124;43mredshift\u001b[39;49m\u001b[38;5;124;43m'\u001b[39;49m\u001b[43m,\u001b[49m\u001b[38;5;124;43m'\u001b[39;49m\u001b[38;5;124;43mis_central\u001b[39;49m\u001b[38;5;124;43m'\u001b[39;49m\u001b[43m]\u001b[49m\n",
      "\u001b[0;31mKeyError\u001b[0m: ('redshift', 'is_central')"
     ]
    }
   ],
   "source": [
    "truth_data['redshift'][truth_data['is_central']]"
   ]
  },
  {
   "cell_type": "code",
   "execution_count": 14,
   "id": "016598cb-02c2-4ee6-a152-c05e807e2a73",
   "metadata": {},
   "outputs": [],
   "source": [
    "my_linking_length = 0.4 #linking_lenghts in arcseconds optimal, find by manon ramel"
   ]
  },
  {
   "cell_type": "code",
   "execution_count": 54,
   "id": "854157a7-2c95-440b-83b5-dc9329f440b9",
   "metadata": {},
   "outputs": [],
   "source": [
    "results = FoFCatalogMatching.match(catalog_dict={'object':pd.DataFrame(object_data), \n",
    "                                                 'galaxy':pd.DataFrame(truth_data)},\n",
    "                                                    linking_lengths=my_linking_length)"
   ]
  },
  {
   "cell_type": "code",
   "execution_count": 53,
   "id": "9bc9c6b9-03a2-4ab9-aaef-0da90d9c5684",
   "metadata": {},
   "outputs": [
    {
     "data": {
      "text/plain": [
       "\u001b[0;31mType:\u001b[0m        module\n",
       "\u001b[0;31mString form:\u001b[0m <module 'FoFCatalogMatching' from '/pbs/throng/lsst/software/desc/common/miniconda/dp-v1.1.0/lib/python3.10/site-packages/FoFCatalogMatching.py'>\n",
       "\u001b[0;31mFile:\u001b[0m        /pbs/throng/lsst/software/desc/common/miniconda/dp-v1.1.0/lib/python3.10/site-packages/FoFCatalogMatching.py\n",
       "\u001b[0;31mDocstring:\u001b[0m   FoFCatalogMatching"
      ]
     },
     "metadata": {},
     "output_type": "display_data"
    }
   ],
   "source": [
    "FoFCatalogMatching?"
   ]
  },
  {
   "cell_type": "code",
   "execution_count": 16,
   "id": "97b88db8-7a3e-48e4-9d6d-0b326a7a55e1",
   "metadata": {},
   "outputs": [
    {
     "data": {
      "text/html": [
       "<div><i>Table length=3433707</i>\n",
       "<table id=\"table139735826760512\" class=\"table-striped table-bordered table-condensed\">\n",
       "<thead><tr><th>row_index</th><th>catalog_key</th><th>group_id</th></tr></thead>\n",
       "<thead><tr><th>int64</th><th>str6</th><th>int64</th></tr></thead>\n",
       "<tr><td>0</td><td>object</td><td>0</td></tr>\n",
       "<tr><td>2612665</td><td>galaxy</td><td>0</td></tr>\n",
       "<tr><td>1</td><td>object</td><td>1</td></tr>\n",
       "<tr><td>595257</td><td>galaxy</td><td>1</td></tr>\n",
       "<tr><td>2</td><td>object</td><td>2</td></tr>\n",
       "<tr><td>591883</td><td>galaxy</td><td>2</td></tr>\n",
       "<tr><td>3</td><td>object</td><td>3</td></tr>\n",
       "<tr><td>773070</td><td>galaxy</td><td>3</td></tr>\n",
       "<tr><td>4</td><td>object</td><td>4</td></tr>\n",
       "<tr><td>807292</td><td>galaxy</td><td>4</td></tr>\n",
       "<tr><td>...</td><td>...</td><td>...</td></tr>\n",
       "<tr><td>2895412</td><td>galaxy</td><td>2883773</td></tr>\n",
       "<tr><td>2895413</td><td>galaxy</td><td>2883774</td></tr>\n",
       "<tr><td>2895414</td><td>galaxy</td><td>2883775</td></tr>\n",
       "<tr><td>2895415</td><td>galaxy</td><td>2883776</td></tr>\n",
       "<tr><td>2895416</td><td>galaxy</td><td>2883777</td></tr>\n",
       "<tr><td>2895417</td><td>galaxy</td><td>2883778</td></tr>\n",
       "<tr><td>2895418</td><td>galaxy</td><td>2883779</td></tr>\n",
       "<tr><td>2895419</td><td>galaxy</td><td>2883780</td></tr>\n",
       "<tr><td>2895420</td><td>galaxy</td><td>2883781</td></tr>\n",
       "<tr><td>2895421</td><td>galaxy</td><td>2883782</td></tr>\n",
       "</table></div>"
      ],
      "text/plain": [
       "<Table length=3433707>\n",
       "row_index catalog_key group_id\n",
       "  int64       str6     int64  \n",
       "--------- ----------- --------\n",
       "        0      object        0\n",
       "  2612665      galaxy        0\n",
       "        1      object        1\n",
       "   595257      galaxy        1\n",
       "        2      object        2\n",
       "   591883      galaxy        2\n",
       "        3      object        3\n",
       "   773070      galaxy        3\n",
       "        4      object        4\n",
       "   807292      galaxy        4\n",
       "      ...         ...      ...\n",
       "  2895412      galaxy  2883773\n",
       "  2895413      galaxy  2883774\n",
       "  2895414      galaxy  2883775\n",
       "  2895415      galaxy  2883776\n",
       "  2895416      galaxy  2883777\n",
       "  2895417      galaxy  2883778\n",
       "  2895418      galaxy  2883779\n",
       "  2895419      galaxy  2883780\n",
       "  2895420      galaxy  2883781\n",
       "  2895421      galaxy  2883782"
      ]
     },
     "execution_count": 16,
     "metadata": {},
     "output_type": "execute_result"
    }
   ],
   "source": [
    "results"
   ]
  },
  {
   "cell_type": "code",
   "execution_count": null,
   "id": "6f988924-3d95-4806-9adc-63fe946ae037",
   "metadata": {},
   "outputs": [],
   "source": []
  }
 ],
 "metadata": {
  "kernelspec": {
   "display_name": "desc",
   "language": "python",
   "name": "desc"
  },
  "language_info": {
   "codemirror_mode": {
    "name": "ipython",
    "version": 3
   },
   "file_extension": ".py",
   "mimetype": "text/x-python",
   "name": "python",
   "nbconvert_exporter": "python",
   "pygments_lexer": "ipython3",
   "version": "3.10.9"
  }
 },
 "nbformat": 4,
 "nbformat_minor": 5
}
