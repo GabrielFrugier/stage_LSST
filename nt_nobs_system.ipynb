{
 "cells": [
  {
   "cell_type": "code",
   "execution_count": 1,
   "id": "fb7a924b-bd63-4d06-a936-85e32f5af867",
   "metadata": {},
   "outputs": [],
   "source": [
    "import numpy as np\n",
    "import matplotlib.pyplot as plt\n",
    "import matplotlib as mpl\n",
    "from astropy.table import Table\n",
    "import GCRCatalogs\n",
    "from GCR import GCRQuery\n",
    "import statistics\n",
    "import os, sys\n",
    "import healpy as hp\n",
    "from tqdm.auto import tqdm, trange\n",
    "import scipy.stats\n",
    "import FoFCatalogMatching\n",
    "import pandas as pd\n",
    "from astropy.coordinates import SkyCoord\n",
    "from scipy.stats import pearsonr\n",
    "import warnings"
   ]
  },
  {
   "cell_type": "code",
   "execution_count": 2,
   "id": "80a34dbc-a1bb-41ac-8605-2500543ebff0",
   "metadata": {},
   "outputs": [],
   "source": [
    "warnings.filterwarnings('ignore')"
   ]
  },
  {
   "cell_type": "markdown",
   "id": "5d0b7bd1-9830-46b5-8772-f00b659a4503",
   "metadata": {},
   "source": [
    "### Z and mag filters :"
   ]
  },
  {
   "cell_type": "code",
   "execution_count": 3,
   "id": "32068e6a-30c1-45fe-8c19-a1f83269cbfb",
   "metadata": {},
   "outputs": [],
   "source": [
    "# mag filters :\n",
    "\n",
    "object_mag_filters = ['mag_i_cModel < 26.5', 'mag_i_cModel > 18',\n",
    "    (np.isfinite, 'mag_i_cModel'), (np.isfinite, 'mag_r_cModel'), (np.isfinite, 'mag_z_cModel')]\n",
    "\n",
    "truth_mag_filters = ['mag_i<28','mag_i>18',(np.isfinite, 'mag_i'), (np.isfinite, 'mag_r'), (np.isfinite, 'mag_z')]\n",
    "\n",
    "# z filters (grande):\n",
    "\n",
    "object_z_filters = ['photoz_mean < 1.5', (np.isfinite, 'photoz_mean')]\n",
    "\n",
    "truth_z_filters = ['redshift < 1.5', (np.isfinite, 'redshift')] "
   ]
  },
  {
   "cell_type": "markdown",
   "id": "ad46889f-c90e-4b98-b0f0-34b44010e524",
   "metadata": {},
   "source": [
    "### CosmoDC2 and DC2Objects (truth and object) :"
   ]
  },
  {
   "cell_type": "code",
   "execution_count": 4,
   "id": "0a629a46-9841-4773-86d1-167c2bf14f42",
   "metadata": {},
   "outputs": [],
   "source": [
    "cosmodc2 = GCRCatalogs.load_catalog('cosmoDC2_v1.1.4_image') #truth catalog\n",
    "dc2 = GCRCatalogs.load_catalog('dc2_object_run2.2i_dr6_with_addons') #object catalog"
   ]
  },
  {
   "cell_type": "code",
   "execution_count": 5,
   "id": "c119d240-2d23-489d-8097-236e1dff53bf",
   "metadata": {},
   "outputs": [],
   "source": [
    "cosmodc2.get_quantity_info('is_central')"
   ]
  },
  {
   "cell_type": "code",
   "execution_count": 6,
   "id": "853ac1fc-ef3a-423f-8b58-ab5ad6182f6f",
   "metadata": {},
   "outputs": [
    {
     "name": "stdout",
     "output_type": "stream",
     "text": [
      "<class 'dict'>\n"
     ]
    }
   ],
   "source": [
    "#data object catalog :\n",
    "\n",
    "object_quantities = ['ra', 'dec', 'mag_i_cModel', 'photoz_mean']\n",
    "\n",
    "object_data = (dc2.get_quantities(object_quantities,\n",
    "                                 filters=['extendedness>0', 'clean']+object_mag_filters+object_z_filters,\n",
    "                                 native_filters=['tract==4026']))\n",
    "\n",
    "print(type(object_data))"
   ]
  },
  {
   "cell_type": "code",
   "execution_count": 7,
   "id": "80e8700b-181c-4ccd-883b-4404788e629a",
   "metadata": {},
   "outputs": [],
   "source": [
    "# data truth catalog :\n",
    "\n",
    "eps = 10/3600 # 10 arcsec\n",
    "max_ra = np.nanmax(object_data['ra']) + eps\n",
    "min_ra = np.nanmin(object_data['ra']) - eps\n",
    "max_dec = np.nanmax(object_data['dec']) + eps\n",
    "min_dec = np.nanmin(object_data['dec']) - eps\n",
    "pos_filters = [f'ra >= {min_ra}',f'ra <= {max_ra}', f'dec >= {min_dec}', f'dec <= {max_dec}']\n",
    "\n",
    "vertices = hp.ang2vec(np.array([min_ra, max_ra, max_ra, min_ra]),\n",
    "                      np.array([min_dec, min_dec, max_dec, max_dec]), lonlat=True)\n",
    "ipix = hp.query_polygon(32, vertices, inclusive=True)\n",
    "healpix_filter = GCRQuery((lambda h: np.isin(h, ipix, True), \"healpix_pixel\"))"
   ]
  },
  {
   "cell_type": "code",
   "execution_count": 8,
   "id": "e6198005-72cc-4b2a-824b-43aad3eef3fa",
   "metadata": {},
   "outputs": [],
   "source": [
    "truth_quantities = ['galaxy_id', 'ra', 'dec', 'mag_i', 'redshift', 'is_central', 'halo_mass', 'halo_id']\n",
    "\n",
    "truth_data = (cosmodc2.get_quantities(truth_quantities, \n",
    "                                      filters=truth_mag_filters+pos_filters+truth_z_filters, \n",
    "                                      native_filters=healpix_filter))"
   ]
  },
  {
   "cell_type": "code",
   "execution_count": 9,
   "id": "19ca1c2a-9b1d-44d0-9ae8-76252da6e16d",
   "metadata": {},
   "outputs": [
    {
     "data": {
      "text/plain": [
       "['galaxy_id',\n",
       " 'redshift',\n",
       " 'halo_mass',\n",
       " 'halo_id',\n",
       " 'ra',\n",
       " 'is_central',\n",
       " 'mag_i',\n",
       " 'dec']"
      ]
     },
     "execution_count": 9,
     "metadata": {},
     "output_type": "execute_result"
    }
   ],
   "source": [
    "list(truth_data)"
   ]
  },
  {
   "cell_type": "code",
   "execution_count": 10,
   "id": "5e415049-9457-476a-9ee4-e222f8a780c4",
   "metadata": {},
   "outputs": [
    {
     "data": {
      "text/plain": [
       "array([5.07006249e+12, 5.07006249e+12, 3.79915201e+10, ...,\n",
       "       1.28993621e+10, 4.89915741e+10, 2.66634575e+10])"
      ]
     },
     "execution_count": 10,
     "metadata": {},
     "output_type": "execute_result"
    }
   ],
   "source": [
    "truth_data['halo_mass']"
   ]
  },
  {
   "cell_type": "code",
   "execution_count": 11,
   "id": "2a892012-9e07-4d5d-9766-899d4fab4c2c",
   "metadata": {},
   "outputs": [
    {
     "name": "stdout",
     "output_type": "stream",
     "text": [
      "nombre de galaxies = 2038017\n",
      "nombre de galaxies centrales = 1884055\n",
      "pourcentage de galaxies centrales = 92.44549971859901 %\n",
      "nombre d'objets = 560402\n"
     ]
    }
   ],
   "source": [
    "print(\"nombre de galaxies =\", len(truth_data['ra']))\n",
    "print(\"nombre de galaxies centrales =\", len(np.where(truth_data['is_central']==True)[0]))\n",
    "print(\"pourcentage de galaxies centrales =\", (len(np.where(truth_data['is_central']==True)[0])/len(truth_data['ra']))*100, '%')\n",
    "print(\"nombre d'objets =\", len(object_data['ra']))"
   ]
  },
  {
   "cell_type": "code",
   "execution_count": 12,
   "id": "5e68eee0-e46e-48a4-9a4d-713213a2fb1b",
   "metadata": {},
   "outputs": [
    {
     "data": {
      "text/plain": [
       "(array([1.e+00, 1.e+01, 1.e+02, 1.e+03, 1.e+04, 1.e+05, 1.e+06, 1.e+07]),\n",
       " [Text(0, 1.0, '$\\\\mathdefault{10^{0}}$'),\n",
       "  Text(0, 10.0, '$\\\\mathdefault{10^{1}}$'),\n",
       "  Text(0, 100.0, '$\\\\mathdefault{10^{2}}$'),\n",
       "  Text(0, 1000.0, '$\\\\mathdefault{10^{3}}$'),\n",
       "  Text(0, 10000.0, '$\\\\mathdefault{10^{4}}$'),\n",
       "  Text(0, 100000.0, '$\\\\mathdefault{10^{5}}$'),\n",
       "  Text(0, 1000000.0, '$\\\\mathdefault{10^{6}}$'),\n",
       "  Text(0, 10000000.0, '$\\\\mathdefault{10^{7}}$')])"
      ]
     },
     "execution_count": 12,
     "metadata": {},
     "output_type": "execute_result"
    },
    {
     "data": {
      "image/png": "[encoded data removed]",
      "text/plain": [
       "<Figure size 640x480 with 1 Axes>"
      ]
     },
     "metadata": {},
     "output_type": "display_data"
    }
   ],
   "source": [
    "plt.figure()\n",
    "truth_hist_central=plt.hist(truth_data['mag_i'][np.where(truth_data['is_central']==True)[0]], bins=50, \n",
    "                            histtype='step', label='i-magnitude truth for central galaxy', log=True)\n",
    "truth_hist=plt.hist(truth_data['mag_i'], bins=50, histtype='step', label='i-magnitude truth', log=True)\n",
    "plt.legend()\n",
    "plt.xlabel('mag')\n",
    "plt.ylabel('number of object(object)/galaxies(truth)')\n",
    "plt.xticks()\n",
    "plt.yticks()"
   ]
  },
  {
   "cell_type": "code",
   "execution_count": 13,
   "id": "efb7dc05-fb13-4f29-bb7c-5332820e6295",
   "metadata": {},
   "outputs": [
    {
     "data": {
      "text/plain": [
       "(array([1.e-01, 1.e+00, 1.e+01, 1.e+02, 1.e+03, 1.e+04, 1.e+05, 1.e+06,\n",
       "        1.e+07]),\n",
       " [Text(0, 0.1, '$\\\\mathdefault{10^{-1}}$'),\n",
       "  Text(0, 1.0, '$\\\\mathdefault{10^{0}}$'),\n",
       "  Text(0, 10.0, '$\\\\mathdefault{10^{1}}$'),\n",
       "  Text(0, 100.0, '$\\\\mathdefault{10^{2}}$'),\n",
       "  Text(0, 1000.0, '$\\\\mathdefault{10^{3}}$'),\n",
       "  Text(0, 10000.0, '$\\\\mathdefault{10^{4}}$'),\n",
       "  Text(0, 100000.0, '$\\\\mathdefault{10^{5}}$'),\n",
       "  Text(0, 1000000.0, '$\\\\mathdefault{10^{6}}$'),\n",
       "  Text(0, 10000000.0, '$\\\\mathdefault{10^{7}}$')])"
      ]
     },
     "execution_count": 13,
     "metadata": {},
     "output_type": "execute_result"
    },
    {
     "data": {
      "image/png": "[encoded data removed]",
      "text/plain": [
       "<Figure size 640x480 with 1 Axes>"
      ]
     },
     "metadata": {},
     "output_type": "display_data"
    }
   ],
   "source": [
    "plt.figure()\n",
    "truth_hist_central=plt.hist(np.log10(truth_data['halo_mass'])[np.where(truth_data['is_central']==True)[0]], bins=50, \n",
    "                            histtype='step', label='halo_mass truth for central galaxy', log=True)\n",
    "truth_hist=plt.hist(np.log10(truth_data['halo_mass']), bins=50, histtype='step', label='halo_mass truth', log=True)\n",
    "plt.legend()\n",
    "plt.xlabel('halo_mass')\n",
    "plt.ylabel('number of object(object)/galaxies(truth)')\n",
    "plt.xticks()\n",
    "plt.yticks()"
   ]
  },
  {
   "cell_type": "code",
   "execution_count": 14,
   "id": "48f28cde-b7bd-4f2f-a4c1-5c4454403209",
   "metadata": {},
   "outputs": [
    {
     "data": {
      "text/plain": [
       "\"redshift=truth_data['redshift']\\nhalo_mass=truth_data['halo_mass']\\nmag_i=truth_data['mag_i']\\ngalaxy_id=truth_data['galaxy_id']\\nis_central=truth_data['is_central']\""
      ]
     },
     "execution_count": 14,
     "metadata": {},
     "output_type": "execute_result"
    }
   ],
   "source": [
    "where_ind_central=np.where(truth_data['is_central']==True)[0]\n",
    "\n",
    "'''redshift=truth_data['redshift']\n",
    "halo_mass=truth_data['halo_mass']\n",
    "mag_i=truth_data['mag_i']\n",
    "galaxy_id=truth_data['galaxy_id']\n",
    "is_central=truth_data['is_central']'''"
   ]
  },
  {
   "cell_type": "code",
   "execution_count": 15,
   "id": "e528a56e-e79b-4507-8499-57b7549f2ef0",
   "metadata": {},
   "outputs": [
    {
     "data": {
      "text/plain": [
       "['galaxy_id',\n",
       " 'redshift',\n",
       " 'halo_mass',\n",
       " 'halo_id',\n",
       " 'ra',\n",
       " 'is_central',\n",
       " 'mag_i',\n",
       " 'dec']"
      ]
     },
     "execution_count": 15,
     "metadata": {},
     "output_type": "execute_result"
    }
   ],
   "source": [
    "list(truth_data)"
   ]
  },
  {
   "cell_type": "markdown",
   "id": "95eba13b-3f27-4b10-bdf2-5634a04b5e2c",
   "metadata": {},
   "source": [
    "### FoF algo :"
   ]
  },
  {
   "cell_type": "code",
   "execution_count": 16,
   "id": "016598cb-02c2-4ee6-a152-c05e807e2a73",
   "metadata": {},
   "outputs": [],
   "source": [
    "my_linking_length = 0.4 #linking_lenghts in arcseconds optimal, for 18<mag<26.5"
   ]
  },
  {
   "cell_type": "code",
   "execution_count": 17,
   "id": "854157a7-2c95-440b-83b5-dc9329f440b9",
   "metadata": {},
   "outputs": [],
   "source": [
    "results = FoFCatalogMatching.match(catalog_dict={'object':pd.DataFrame(object_data), \n",
    "                                                 'galaxy':pd.DataFrame(truth_data)},\n",
    "                                                    linking_lengths=my_linking_length)"
   ]
  },
  {
   "cell_type": "code",
   "execution_count": 18,
   "id": "a4ac6786-adbe-4aa6-944b-34315b71ffbf",
   "metadata": {},
   "outputs": [
    {
     "data": {
      "text/html": [
       "<div><i>Table length=2598419</i>\n",
       "<table id=\"table139791657262656\" class=\"table-striped table-bordered table-condensed\">\n",
       "<thead><tr><th>row_index</th><th>catalog_key</th><th>group_id</th></tr></thead>\n",
       "<thead><tr><th>int64</th><th>str6</th><th>int64</th></tr></thead>\n",
       "<tr><td>0</td><td>object</td><td>0</td></tr>\n",
       "<tr><td>1887873</td><td>galaxy</td><td>0</td></tr>\n",
       "<tr><td>1</td><td>object</td><td>1</td></tr>\n",
       "<tr><td>488379</td><td>galaxy</td><td>1</td></tr>\n",
       "<tr><td>2</td><td>object</td><td>2</td></tr>\n",
       "<tr><td>485145</td><td>galaxy</td><td>2</td></tr>\n",
       "<tr><td>3</td><td>object</td><td>3</td></tr>\n",
       "<tr><td>640537</td><td>galaxy</td><td>3</td></tr>\n",
       "<tr><td>4</td><td>object</td><td>4</td></tr>\n",
       "<tr><td>665905</td><td>galaxy</td><td>4</td></tr>\n",
       "<tr><td>...</td><td>...</td><td>...</td></tr>\n",
       "<tr><td>2038007</td><td>galaxy</td><td>2073272</td></tr>\n",
       "<tr><td>2038008</td><td>galaxy</td><td>2073273</td></tr>\n",
       "<tr><td>2038009</td><td>galaxy</td><td>2073274</td></tr>\n",
       "<tr><td>2038010</td><td>galaxy</td><td>2073275</td></tr>\n",
       "<tr><td>2038011</td><td>galaxy</td><td>2073276</td></tr>\n",
       "<tr><td>2038012</td><td>galaxy</td><td>2073277</td></tr>\n",
       "<tr><td>2038013</td><td>galaxy</td><td>2073278</td></tr>\n",
       "<tr><td>2038014</td><td>galaxy</td><td>2073279</td></tr>\n",
       "<tr><td>2038015</td><td>galaxy</td><td>2073280</td></tr>\n",
       "<tr><td>2038016</td><td>galaxy</td><td>2073281</td></tr>\n",
       "</table></div>"
      ],
      "text/plain": [
       "<Table length=2598419>\n",
       "row_index catalog_key group_id\n",
       "  int64       str6     int64  \n",
       "--------- ----------- --------\n",
       "        0      object        0\n",
       "  1887873      galaxy        0\n",
       "        1      object        1\n",
       "   488379      galaxy        1\n",
       "        2      object        2\n",
       "   485145      galaxy        2\n",
       "        3      object        3\n",
       "   640537      galaxy        3\n",
       "        4      object        4\n",
       "   665905      galaxy        4\n",
       "      ...         ...      ...\n",
       "  2038007      galaxy  2073272\n",
       "  2038008      galaxy  2073273\n",
       "  2038009      galaxy  2073274\n",
       "  2038010      galaxy  2073275\n",
       "  2038011      galaxy  2073276\n",
       "  2038012      galaxy  2073277\n",
       "  2038013      galaxy  2073278\n",
       "  2038014      galaxy  2073279\n",
       "  2038015      galaxy  2073280\n",
       "  2038016      galaxy  2073281"
      ]
     },
     "execution_count": 18,
     "metadata": {},
     "output_type": "execute_result"
    }
   ],
   "source": [
    "results"
   ]
  },
  {
   "cell_type": "code",
   "execution_count": 19,
   "id": "064ace1a-4c14-4f97-a2e7-adf1f706b539",
   "metadata": {},
   "outputs": [
    {
     "data": {
      "text/html": [
       "<div><i>Table length=2</i>\n",
       "<table id=\"table139791657761856\" class=\"table-striped table-bordered table-condensed\">\n",
       "<thead><tr><th>row_index</th><th>catalog_key</th><th>group_id</th></tr></thead>\n",
       "<thead><tr><th>int64</th><th>str6</th><th>int64</th></tr></thead>\n",
       "<tr><td>1</td><td>object</td><td>1</td></tr>\n",
       "<tr><td>1</td><td>galaxy</td><td>234434</td></tr>\n",
       "</table></div>"
      ],
      "text/plain": [
       "<Table length=2>\n",
       "row_index catalog_key group_id\n",
       "  int64       str6     int64  \n",
       "--------- ----------- --------\n",
       "        1      object        1\n",
       "        1      galaxy   234434"
      ]
     },
     "execution_count": 19,
     "metadata": {},
     "output_type": "execute_result"
    }
   ],
   "source": [
    "results[results['row_index']==1] #FoF assemble les tab truth et data mais les mélanges pas"
   ]
  },
  {
   "cell_type": "code",
   "execution_count": 20,
   "id": "97b88db8-7a3e-48e4-9d6d-0b326a7a55e1",
   "metadata": {},
   "outputs": [
    {
     "data": {
      "text/plain": [
       "astropy.table.table.Table"
      ]
     },
     "execution_count": 20,
     "metadata": {},
     "output_type": "execute_result"
    }
   ],
   "source": [
    "type(results)"
   ]
  },
  {
   "cell_type": "code",
   "execution_count": 21,
   "id": "78cfb00b-9574-4b04-8b11-b75254935d16",
   "metadata": {},
   "outputs": [],
   "source": [
    "# first we need to know which rows are from the truth catalog and which are from the object\n",
    "\n",
    "truth_mask = results['catalog_key'] == 'galaxy'\n",
    "object_mask = ~truth_mask"
   ]
  },
  {
   "cell_type": "code",
   "execution_count": 22,
   "id": "6f988924-3d95-4806-9adc-63fe946ae037",
   "metadata": {},
   "outputs": [
    {
     "name": "stdout",
     "output_type": "stream",
     "text": [
      "2073281\n"
     ]
    }
   ],
   "source": [
    "# np.bincount will give up the number of id occurrences (like histogram but with integer input)\n",
    "\n",
    "n_groups = results['group_id'].max() + 1   #nombre de groupes total (groupe/objet)\n",
    "n_truth = np.bincount(results['group_id'][truth_mask], minlength=n_groups)  # groupe de galaxies\n",
    "n_object = np.bincount(results['group_id'][object_mask], minlength=n_groups)  # groupe d'objets\n",
    "\n",
    "print(results['group_id'].max())"
   ]
  },
  {
   "cell_type": "markdown",
   "id": "ed03c8a2-3a23-4d25-8d8e-2df3f547c6cf",
   "metadata": {},
   "source": [
    "#### Galaxy central selection :"
   ]
  },
  {
   "cell_type": "code",
   "execution_count": 23,
   "id": "3b300347-09cd-487c-a64b-0e07ade09515",
   "metadata": {},
   "outputs": [
    {
     "data": {
      "text/plain": [
       "astropy.table.column.Column"
      ]
     },
     "execution_count": 23,
     "metadata": {},
     "output_type": "execute_result"
    }
   ],
   "source": [
    "ind_galax=np.array(results[truth_mask][:]['row_index'])  #transfo dictio astropy en array pour pouvoir indexer en gardant l'ordre des indices donné dans results\n",
    "                                                         #(relié au group_id)\n",
    "type(results[truth_mask][:]['row_index'])"
   ]
  },
  {
   "cell_type": "code",
   "execution_count": 24,
   "id": "8023a24f-0f81-4d44-9f94-7812449e3c9d",
   "metadata": {},
   "outputs": [
    {
     "data": {
      "text/plain": [
       "array([ True,  True,  True, ...,  True,  True,  True])"
      ]
     },
     "execution_count": 24,
     "metadata": {},
     "output_type": "execute_result"
    }
   ],
   "source": [
    "ind_galax_truth = truth_data['is_central'][ind_galax]   #donne indices des galaxies dans l'ordre de results (par groupe_id)\n",
    "ind_galax_truth"
   ]
  },
  {
   "cell_type": "code",
   "execution_count": 25,
   "id": "fd984c6e-236e-46bf-ba70-42687fcfc485",
   "metadata": {},
   "outputs": [
    {
     "data": {
      "text/html": [
       "<div><i>Table length=1884055</i>\n",
       "<table id=\"table139791657753792\" class=\"table-striped table-bordered table-condensed\">\n",
       "<thead><tr><th>row_index</th><th>catalog_key</th><th>group_id</th></tr></thead>\n",
       "<thead><tr><th>int64</th><th>str6</th><th>int64</th></tr></thead>\n",
       "<tr><td>1887873</td><td>galaxy</td><td>0</td></tr>\n",
       "<tr><td>488379</td><td>galaxy</td><td>1</td></tr>\n",
       "<tr><td>485145</td><td>galaxy</td><td>2</td></tr>\n",
       "<tr><td>640537</td><td>galaxy</td><td>3</td></tr>\n",
       "<tr><td>665905</td><td>galaxy</td><td>4</td></tr>\n",
       "<tr><td>795341</td><td>galaxy</td><td>5</td></tr>\n",
       "<tr><td>642662</td><td>galaxy</td><td>6</td></tr>\n",
       "<tr><td>732007</td><td>galaxy</td><td>7</td></tr>\n",
       "<tr><td>1772683</td><td>galaxy</td><td>8</td></tr>\n",
       "<tr><td>832556</td><td>galaxy</td><td>11</td></tr>\n",
       "<tr><td>...</td><td>...</td><td>...</td></tr>\n",
       "<tr><td>2038007</td><td>galaxy</td><td>2073272</td></tr>\n",
       "<tr><td>2038008</td><td>galaxy</td><td>2073273</td></tr>\n",
       "<tr><td>2038009</td><td>galaxy</td><td>2073274</td></tr>\n",
       "<tr><td>2038010</td><td>galaxy</td><td>2073275</td></tr>\n",
       "<tr><td>2038011</td><td>galaxy</td><td>2073276</td></tr>\n",
       "<tr><td>2038012</td><td>galaxy</td><td>2073277</td></tr>\n",
       "<tr><td>2038013</td><td>galaxy</td><td>2073278</td></tr>\n",
       "<tr><td>2038014</td><td>galaxy</td><td>2073279</td></tr>\n",
       "<tr><td>2038015</td><td>galaxy</td><td>2073280</td></tr>\n",
       "<tr><td>2038016</td><td>galaxy</td><td>2073281</td></tr>\n",
       "</table></div>"
      ],
      "text/plain": [
       "<Table length=1884055>\n",
       "row_index catalog_key group_id\n",
       "  int64       str6     int64  \n",
       "--------- ----------- --------\n",
       "  1887873      galaxy        0\n",
       "   488379      galaxy        1\n",
       "   485145      galaxy        2\n",
       "   640537      galaxy        3\n",
       "   665905      galaxy        4\n",
       "   795341      galaxy        5\n",
       "   642662      galaxy        6\n",
       "   732007      galaxy        7\n",
       "  1772683      galaxy        8\n",
       "   832556      galaxy       11\n",
       "      ...         ...      ...\n",
       "  2038007      galaxy  2073272\n",
       "  2038008      galaxy  2073273\n",
       "  2038009      galaxy  2073274\n",
       "  2038010      galaxy  2073275\n",
       "  2038011      galaxy  2073276\n",
       "  2038012      galaxy  2073277\n",
       "  2038013      galaxy  2073278\n",
       "  2038014      galaxy  2073279\n",
       "  2038015      galaxy  2073280\n",
       "  2038016      galaxy  2073281"
      ]
     },
     "execution_count": 25,
     "metadata": {},
     "output_type": "execute_result"
    }
   ],
   "source": [
    "results[truth_mask][ind_galax_truth] "
   ]
  },
  {
   "cell_type": "code",
   "execution_count": 26,
   "id": "d1c63e29-c7ef-4ebc-a097-650bdc9ce555",
   "metadata": {},
   "outputs": [
    {
     "name": "stdout",
     "output_type": "stream",
     "text": [
      "[1 1 1 ... 1 1 1]\n"
     ]
    }
   ],
   "source": [
    "n_truth_central=np.bincount(results[truth_mask]['group_id'][ind_galax_truth], minlength=n_groups)  #donne nbr groupe de galaxies cenrtales\n",
    "\n",
    "print(n_truth_central)"
   ]
  },
  {
   "cell_type": "code",
   "execution_count": 39,
   "id": "d93c3417-4f0a-4de0-b3df-8dce581076cc",
   "metadata": {},
   "outputs": [
    {
     "data": {
      "image/png": "[encoded data removed]",
      "text/plain": [
       "<Figure size 1100x400 with 2 Axes>"
      ]
     },
     "metadata": {},
     "output_type": "display_data"
    }
   ],
   "source": [
    "plt.figure(figsize=(11,4))\n",
    "plt.subplots_adjust(left=0.1, right=1, wspace=0.5)\n",
    "\n",
    "plt1=plt.subplot(121)\n",
    "hist1=plt.hist(n_truth, bins=np.arange(max(np.max(n_object), np.max(n_truth))+2)-0.5)\n",
    "plt.xlabel('Group type for all galaxies')\n",
    "plt.ylabel('# of galaxies')\n",
    "plt.title('Group size repartition for all galaxies')\n",
    "\n",
    "plt2=plt.subplot(122)\n",
    "hist2=plt.hist(n_truth_central, bins=np.arange(max(np.max(n_object), np.max(n_truth))+2)-0.5)\n",
    "plt.xlabel('Group type for ccentral galaxies')\n",
    "plt.ylabel('# of central galaxies')\n",
    "plt.title('Group size repartition for central galaxies')\n",
    "\n",
    "plt.show()"
   ]
  },
  {
   "cell_type": "code",
   "execution_count": 37,
   "id": "e39ef00f-dd7c-4c01-b64c-e6bd5ed0bce6",
   "metadata": {},
   "outputs": [
    {
     "data": {
      "image/png": "[encoded data removed]",
      "text/plain": [
       "<Figure size 1100x400 with 4 Axes>"
      ]
     },
     "metadata": {},
     "output_type": "display_data"
    }
   ],
   "source": [
    "#average number of galaxies by groupsplt.hist2d(n_truth, n_object, bins=np.arange(max(np.max(n_object), np.max(n_truth))+2)-0.5, norm=mpl.colors.LogNorm());\n",
    "\n",
    "plt.figure(figsize=(11,4))\n",
    "plt.subplots_adjust(left=0.1, right=1, wspace=0.5)\n",
    "\n",
    "plt1=plt.subplot(121)\n",
    "hist2d1=plt.hist2d(n_truth, n_object, bins=np.arange(max(np.max(n_object), np.max(n_truth))+2)-0.5, norm=mpl.colors.LogNorm())\n",
    "plt.xlabel('Number of truth galaxies', fontsize=12)\n",
    "plt.ylabel('Number of detected objects', fontsize=12)\n",
    "plt.colorbar(label=r'$N_{\\rm groups}$')\n",
    "plt.gca().set_aspect('equal')\n",
    "plt.title('Histogram of galaxy grouping by FoF algorithm ')\n",
    "\n",
    "plt2=plt.subplot(122)\n",
    "hist2d2=plt.hist2d(n_truth_central, n_object,\n",
    "                    bins=np.arange(max(np.max(n_object), \n",
    "                    np.max(n_truth_central))+2)-0.5,\n",
    "                    norm=mpl.colors.LogNorm())\n",
    "plt.xlabel('Number of truth central galaxies', fontsize=12)\n",
    "plt.ylabel('Number of detected objects', fontsize=12)\n",
    "plt.colorbar(label=r'$N_{\\rm groups}$')\n",
    "plt.gca().set_aspect('equal')\n",
    "plt.title('Histogram of central galaxy grouping by FoF algorithm ')\n",
    "\n",
    "plt.show()\n",
    "\n",
    "#attention histo en échelles log"
   ]
  },
  {
   "cell_type": "code",
   "execution_count": 98,
   "id": "d97c6a37-479a-4eba-ab3b-5dbb381a1e09",
   "metadata": {},
   "outputs": [
    {
     "name": "stdout",
     "output_type": "stream",
     "text": [
      "[0.000000e+00 1.495248e+06 1.740900e+04 2.400000e+02 8.000000e+00\n",
      " 1.000000e+00]\n",
      "[7.413300e+04 1.422947e+06 1.562100e+04 1.990000e+02 5.000000e+00\n",
      " 1.000000e+00]\n"
     ]
    }
   ],
   "source": [
    "print(hist2d1[0][:,0])\n",
    "print(hist2d2[0][:,0])"
   ]
  },
  {
   "cell_type": "code",
   "execution_count": 102,
   "id": "274787b0-3e44-41f0-b5c0-5fc5a914ff51",
   "metadata": {},
   "outputs": [
    {
     "name": "stdout",
     "output_type": "stream",
     "text": [
      "21464.0\n",
      "[[1.54203e+05 1.00000e+01 0.00000e+00 0.00000e+00 0.00000e+00]\n",
      " [3.83885e+05 1.50000e+01 0.00000e+00 0.00000e+00 0.00000e+00]\n",
      " [2.14640e+04 1.00000e+00 0.00000e+00 0.00000e+00 0.00000e+00]\n",
      " [7.79000e+02 0.00000e+00 0.00000e+00 0.00000e+00 0.00000e+00]\n",
      " [1.80000e+01 0.00000e+00 0.00000e+00 0.00000e+00 0.00000e+00]\n",
      " [1.00000e+00 0.00000e+00 0.00000e+00 0.00000e+00 0.00000e+00]]\n"
     ]
    }
   ],
   "source": [
    "#on ne prend pas en compte les erreurs de mesures (1ère colonne)\n",
    "\n",
    "print(hist2d2[0][2,1]) #nbr 2-1 system, unrecognized blend\n",
    "print(hist2d2[0][:,1:])"
   ]
  },
  {
   "cell_type": "code",
   "execution_count": 105,
   "id": "579297d4-3aa2-4053-9738-617bd4325b96",
   "metadata": {},
   "outputs": [
    {
     "name": "stdout",
     "output_type": "stream",
     "text": [
      "% of unrecognized blended groups for all galaxies (only for system n-1) = 4.876190272245777\n"
     ]
    }
   ],
   "source": [
    "print(\"% of unrecognized blended groups for all galaxies (only for system n-1) =\", (hist2d1[0][2,1]/np.sum(hist2d1[0][:,1:]))*100) "
   ]
  },
  {
   "cell_type": "code",
   "execution_count": 106,
   "id": "fa563386-a356-4b36-9d68-d7bda6a82a23",
   "metadata": {},
   "outputs": [
    {
     "name": "stdout",
     "output_type": "stream",
     "text": [
      "% of unrecognized blended groups for central galaxies (only for system n-1) = 3.830285379816409\n"
     ]
    }
   ],
   "source": [
    "print(\"% of unrecognized blended groups for central galaxies (only for system n-1) =\", (hist2d2[0][2,1]/np.sum(hist2d2[0][:,1:]))*100 )"
   ]
  },
  {
   "cell_type": "markdown",
   "id": "480341f4-fbb5-4f10-bbb1-3db8076fe93c",
   "metadata": {},
   "source": [
    "Remarque :\n",
    "\n",
    "* Apparation en grande quantité de systèmes (0-0) quand on retire les galaxies satellites.\n",
    "\n",
    "* Augmentation légère de système (0-1) (ie, erreur de mesure) pour les galaxies centrales.\n",
    "\n",
    "Conclusion : Galaxies sans objets attachés sont généralement pas centrale.\n",
    "Galaxies satellites sont généralement des galaxies isolées. Pas très précis => faire 1ere coupure avec halo masse pour se mettre dans régime des amas. "
   ]
  },
  {
   "cell_type": "markdown",
   "id": "2e2d50e5-f486-46d8-b5d1-a0d3d1584765",
   "metadata": {},
   "source": [
    "## Halo Mass Cut :"
   ]
  },
  {
   "cell_type": "code",
   "execution_count": 48,
   "id": "ee1c1b8b-5164-41c6-b0bb-801761b76a0d",
   "metadata": {},
   "outputs": [],
   "source": [
    "halo_mass_cut=10**12.5"
   ]
  },
  {
   "cell_type": "code",
   "execution_count": 54,
   "id": "cd15db07-4e48-4097-994b-4007327b01e0",
   "metadata": {},
   "outputs": [
    {
     "data": {
      "text/plain": [
       "1884055"
      ]
     },
     "execution_count": 54,
     "metadata": {},
     "output_type": "execute_result"
    }
   ],
   "source": [
    "len(results[truth_mask][ind_galax_truth])"
   ]
  },
  {
   "cell_type": "code",
   "execution_count": 62,
   "id": "b4f0249c-2c31-4b87-a3cd-9eaaab741d1d",
   "metadata": {},
   "outputs": [
    {
     "data": {
      "text/plain": [
       "66649"
      ]
     },
     "execution_count": 62,
     "metadata": {},
     "output_type": "execute_result"
    }
   ],
   "source": [
    "len(np.where(truth_data['halo_mass']>halo_mass_cut)[0])"
   ]
  },
  {
   "cell_type": "code",
   "execution_count": 52,
   "id": "cb009dfb-7f71-4553-8a7a-26b532941ffd",
   "metadata": {},
   "outputs": [
    {
     "ename": "IndexError",
     "evalue": "index 1884058 is out of bounds for axis 0 with size 1884055",
     "output_type": "error",
     "traceback": [
      "\u001b[0;31m---------------------------------------------------------------------------\u001b[0m",
      "\u001b[0;31mIndexError\u001b[0m                                Traceback (most recent call last)",
      "Cell \u001b[0;32mIn[52], line 3\u001b[0m\n\u001b[1;32m      1\u001b[0m \u001b[38;5;66;03m#selection galaxies centrales (=halo) de masse >10**12.5 parmis toutes les galaxies \u001b[39;00m\n\u001b[0;32m----> 3\u001b[0m central_galax\u001b[38;5;241m=\u001b[39m\u001b[43mresults\u001b[49m\u001b[43m[\u001b[49m\u001b[43mtruth_mask\u001b[49m\u001b[43m]\u001b[49m\u001b[43m[\u001b[49m\u001b[43mind_galax_truth\u001b[49m\u001b[43m]\u001b[49m\u001b[43m[\u001b[49m\u001b[43mnp\u001b[49m\u001b[38;5;241;43m.\u001b[39;49m\u001b[43mwhere\u001b[49m\u001b[43m(\u001b[49m\u001b[43mtruth_data\u001b[49m\u001b[43m[\u001b[49m\u001b[38;5;124;43m'\u001b[39;49m\u001b[38;5;124;43mhalo_mass\u001b[39;49m\u001b[38;5;124;43m'\u001b[39;49m\u001b[43m]\u001b[49m\u001b[38;5;241;43m>\u001b[39;49m\u001b[43mhalo_mass_cut\u001b[49m\u001b[43m)\u001b[49m\u001b[43m[\u001b[49m\u001b[38;5;241;43m0\u001b[39;49m\u001b[43m]\u001b[49m\u001b[43m]\u001b[49m\n",
      "File \u001b[0;32m/pbs/throng/lsst/software/desc/common/miniconda/dp-v1.1.0/lib/python3.10/site-packages/astropy/table/table.py:2101\u001b[0m, in \u001b[0;36mTable.__getitem__\u001b[0;34m(self, item)\u001b[0m\n\u001b[1;32m   2090\u001b[0m     \u001b[38;5;28;01mreturn\u001b[39;00m \u001b[38;5;28mself\u001b[39m\u001b[38;5;241m.\u001b[39m_new_from_slice([])\n\u001b[1;32m   2091\u001b[0m \u001b[38;5;28;01melif\u001b[39;00m (\n\u001b[1;32m   2092\u001b[0m     \u001b[38;5;28misinstance\u001b[39m(item, \u001b[38;5;28mslice\u001b[39m)\n\u001b[1;32m   2093\u001b[0m     \u001b[38;5;129;01mor\u001b[39;00m \u001b[38;5;28misinstance\u001b[39m(item, np\u001b[38;5;241m.\u001b[39mndarray)\n\u001b[0;32m   (...)\u001b[0m\n\u001b[1;32m   2099\u001b[0m     \u001b[38;5;66;03m# is produced by np.where, as in t[np.where(t['a'] > 2)]\u001b[39;00m\n\u001b[1;32m   2100\u001b[0m     \u001b[38;5;66;03m# For all, a new table is constructed with slice of all columns\u001b[39;00m\n\u001b[0;32m-> 2101\u001b[0m     \u001b[38;5;28;01mreturn\u001b[39;00m \u001b[38;5;28;43mself\u001b[39;49m\u001b[38;5;241;43m.\u001b[39;49m\u001b[43m_new_from_slice\u001b[49m\u001b[43m(\u001b[49m\u001b[43mitem\u001b[49m\u001b[43m)\u001b[49m\n\u001b[1;32m   2102\u001b[0m \u001b[38;5;28;01melse\u001b[39;00m:\n\u001b[1;32m   2103\u001b[0m     \u001b[38;5;28;01mraise\u001b[39;00m \u001b[38;5;167;01mValueError\u001b[39;00m(\u001b[38;5;124mf\u001b[39m\u001b[38;5;124m\"\u001b[39m\u001b[38;5;124mIllegal type \u001b[39m\u001b[38;5;132;01m{\u001b[39;00m\u001b[38;5;28mtype\u001b[39m(item)\u001b[38;5;132;01m}\u001b[39;00m\u001b[38;5;124m for table item access\u001b[39m\u001b[38;5;124m\"\u001b[39m)\n",
      "File \u001b[0;32m/pbs/throng/lsst/software/desc/common/miniconda/dp-v1.1.0/lib/python3.10/site-packages/astropy/table/table.py:1497\u001b[0m, in \u001b[0;36mTable._new_from_slice\u001b[0;34m(self, slice_)\u001b[0m\n\u001b[1;32m   1495\u001b[0m newcols \u001b[38;5;241m=\u001b[39m []\n\u001b[1;32m   1496\u001b[0m \u001b[38;5;28;01mfor\u001b[39;00m col \u001b[38;5;129;01min\u001b[39;00m \u001b[38;5;28mself\u001b[39m\u001b[38;5;241m.\u001b[39mcolumns\u001b[38;5;241m.\u001b[39mvalues():\n\u001b[0;32m-> 1497\u001b[0m     newcol \u001b[38;5;241m=\u001b[39m \u001b[43mcol\u001b[49m\u001b[43m[\u001b[49m\u001b[43mslice_\u001b[49m\u001b[43m]\u001b[49m\n\u001b[1;32m   1499\u001b[0m     \u001b[38;5;66;03m# Note in line below, use direct attribute access to col.indices for Column\u001b[39;00m\n\u001b[1;32m   1500\u001b[0m     \u001b[38;5;66;03m# instances instead of the generic col.info.indices.  This saves about 4 usec\u001b[39;00m\n\u001b[1;32m   1501\u001b[0m     \u001b[38;5;66;03m# per column.\u001b[39;00m\n\u001b[1;32m   1502\u001b[0m     \u001b[38;5;28;01mif\u001b[39;00m (col \u001b[38;5;28;01mif\u001b[39;00m \u001b[38;5;28misinstance\u001b[39m(col, Column) \u001b[38;5;28;01melse\u001b[39;00m col\u001b[38;5;241m.\u001b[39minfo)\u001b[38;5;241m.\u001b[39mindices:\n\u001b[1;32m   1503\u001b[0m         \u001b[38;5;66;03m# TODO : as far as I can tell the only purpose of setting _copy_indices\u001b[39;00m\n\u001b[1;32m   1504\u001b[0m         \u001b[38;5;66;03m# here is to communicate that to the initial test in `slice_indices`.\u001b[39;00m\n\u001b[1;32m   1505\u001b[0m         \u001b[38;5;66;03m# Why isn't that just sent as an arg to the function?\u001b[39;00m\n",
      "File \u001b[0;32mastropy/table/_column_mixins.pyx:81\u001b[0m, in \u001b[0;36mastropy.table._column_mixins._ColumnGetitemShim.__getitem__\u001b[0;34m()\u001b[0m\n",
      "File \u001b[0;32mastropy/table/_column_mixins.pyx:64\u001b[0m, in \u001b[0;36mastropy.table._column_mixins.base_getitem\u001b[0;34m()\u001b[0m\n",
      "File \u001b[0;32mastropy/table/_column_mixins.pyx:76\u001b[0m, in \u001b[0;36mastropy.table._column_mixins.column_getitem\u001b[0;34m()\u001b[0m\n",
      "\u001b[0;31mIndexError\u001b[0m: index 1884058 is out of bounds for axis 0 with size 1884055"
     ]
    }
   ],
   "source": [
    "#selection galaxies centrales (=halo) de masse >10**12.5 parmis toutes les galaxies \n",
    "\n",
    "central_galax=results[truth_mask][ind_galax_truth][np.where(truth_data['halo_mass']>halo_mass_cut)[0]]"
   ]
  },
  {
   "cell_type": "markdown",
   "id": "6ddf5c7f-1d33-4ad5-b4b8-04a20b527e34",
   "metadata": {},
   "source": [
    "### DC2 Haloes, DC2 Objects :"
   ]
  },
  {
   "cell_type": "code",
   "execution_count": null,
   "id": "2974a387-fc5c-4a78-82c3-b778789bde2a",
   "metadata": {},
   "outputs": [],
   "source": [
    "halos_data = cosmodc2.get_quantities(['ra','dec','redshift','galaxy_id','is_central','halo_id','halo_mass'],   # central_galax=halo\n",
    "                                            filters=pos_filters+['is_central'],native_filters=healpix_filter)\n",
    "\n",
    "print(len(np.where(truth_data['is_central']==True)[0]))\n",
    "print(len(truth_data['is_central']))"
   ]
  },
  {
   "cell_type": "code",
   "execution_count": null,
   "id": "3d321595-e218-471c-b94f-b7a2384ccf9a",
   "metadata": {},
   "outputs": [],
   "source": [
    "print(\"nombre de halo=\", len(halos_data['ra']))"
   ]
  },
  {
   "cell_type": "code",
   "execution_count": null,
   "id": "4177a77f-4332-4594-9296-52d6dfa0b35e",
   "metadata": {},
   "outputs": [],
   "source": [
    "results_halo = FoFCatalogMatching.match(catalog_dict={'object':pd.DataFrame(object_data), \n",
    "                                                      'halos':pd.DataFrame(halos_data)},\n",
    "                                                      linking_lengths=my_linking_length)"
   ]
  },
  {
   "cell_type": "code",
   "execution_count": null,
   "id": "8ca09008-88ed-469d-8034-f001e205c3da",
   "metadata": {},
   "outputs": [],
   "source": [
    "results_halo"
   ]
  },
  {
   "cell_type": "code",
   "execution_count": null,
   "id": "4d12ef49-04fb-4fb0-9960-68fff0be2e20",
   "metadata": {},
   "outputs": [],
   "source": [
    "object_mask_halo=\n",
    "\n",
    "n_groups_halo=results_halo['group_id'].max()+1\n",
    "n_object=np.bincount(results_halo['group_id'][object_mask_halo], minlength=n_groups))"
   ]
  },
  {
   "cell_type": "code",
   "execution_count": null,
   "id": "a0e4d218-e3f3-4fbb-9757-d714b695cd0c",
   "metadata": {},
   "outputs": [],
   "source": [
    "hist2=plt.hist2d(n_truth_central, n_object,\n",
    "                    bins=np.arange(max(np.max(n_object), \n",
    "                    np.max(n_truth_central))+2)-0.5, \n",
    "                    norm=mpl.colors.LogNorm())\n",
    "plt.xlabel('Number of truth central galaxies', fontsize=12)\n",
    "plt.ylabel('Number of detected objects', fontsize=12)\n",
    "plt.colorbar(label=r'$N_{\\rm groups}$')\n",
    "plt.gca().set_aspect('equal')\n",
    "plt.title('Histogram of central galaxy grouping by FoF algorithm ')"
   ]
  }
 ],
 "metadata": {
  "kernelspec": {
   "display_name": "desc",
   "language": "python",
   "name": "desc"
  },
  "language_info": {
   "codemirror_mode": {
    "name": "ipython",
    "version": 3
   },
   "file_extension": ".py",
   "mimetype": "text/x-python",
   "name": "python",
   "nbconvert_exporter": "python",
   "pygments_lexer": "ipython3",
   "version": "3.10.9"
  }
 },
 "nbformat": 4,
 "nbformat_minor": 5
}
